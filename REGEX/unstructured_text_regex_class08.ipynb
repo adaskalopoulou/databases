{
 "cells": [
  {
   "cell_type": "markdown",
   "metadata": {},
   "source": [
    "## INVESTIGATING UNSTRUCTURED TEXT\n",
    "As we saw last week, even the sometimes messy and unpredictable Markup language of HTML can give us clues to how data may be structured. But language as a system (as we saw in Borges) also comes with its own structures. Python provides numerous methods for navigating through basic linguistic patterns. Let's begin with repetition itself:"
   ]
  },
  {
   "cell_type": "code",
   "execution_count": 2,
   "metadata": {
    "collapsed": true
   },
   "outputs": [],
   "source": [
    "speech = '''Tomorrow, and tomorrow, and tomorrow,\n",
    "Creeps in this petty pace from day to day,\n",
    "To the last syllable of recorded time;\n",
    "And all our yesterdays have lighted fools\n",
    "The way to dusty death. Out, out, brief candle!\n",
    "Life's but a walking shadow, a poor player,\n",
    "That struts and frets his hour upon the stage,\n",
    "And then is heard no more. It is a tale\n",
    "Told by an idiot, full of sound and fury,\n",
    "Signifying nothing.'''"
   ]
  },
  {
   "cell_type": "raw",
   "metadata": {},
   "source": [
    "@ triple quotes because is multi-line. "
   ]
  },
  {
   "cell_type": "markdown",
   "metadata": {},
   "source": [
    "There're various ways to investigate Macbeth's famous, very short, speech. We begin by searching for the obvious, searching through the whole speech."
   ]
  },
  {
   "cell_type": "code",
   "execution_count": 3,
   "metadata": {
    "scrolled": true
   },
   "outputs": [
    {
     "data": {
      "text/plain": [
       "True"
      ]
     },
     "execution_count": 3,
     "metadata": {},
     "output_type": "execute_result"
    }
   ],
   "source": [
    "'tomorrow' in speech"
   ]
  },
  {
   "cell_type": "code",
   "execution_count": 4,
   "metadata": {},
   "outputs": [
    {
     "data": {
      "text/plain": [
       "14"
      ]
     },
     "execution_count": 4,
     "metadata": {},
     "output_type": "execute_result"
    }
   ],
   "source": [
    "speech.find('tomorrow')"
   ]
  },
  {
   "cell_type": "markdown",
   "metadata": {},
   "source": [
    "@ it is the position of the word in the speech"
   ]
  },
  {
   "cell_type": "code",
   "execution_count": 5,
   "metadata": {},
   "outputs": [
    {
     "data": {
      "text/plain": [
       "0"
      ]
     },
     "execution_count": 5,
     "metadata": {},
     "output_type": "execute_result"
    }
   ],
   "source": [
    "speech.find('Tomorrow')"
   ]
  },
  {
   "cell_type": "code",
   "execution_count": 6,
   "metadata": {},
   "outputs": [
    {
     "data": {
      "text/plain": [
       "\"tomorrow, and tomorrow,\\nCreeps in this petty pace from day to day,\\nTo the last syllable of recorded time;\\nAnd all our yesterdays have lighted fools\\nThe way to dusty death. Out, out, brief candle!\\nLife's but a walking shadow, a poor player,\\nThat struts and frets his hour upon the stage,\\nAnd then is heard no more. It is a tale\\nTold by an idiot, full of sound and fury,\\nSignifying nothing.\""
      ]
     },
     "execution_count": 6,
     "metadata": {},
     "output_type": "execute_result"
    }
   ],
   "source": [
    "speech[14:]\n",
    "#speech[14:22]"
   ]
  },
  {
   "cell_type": "code",
   "execution_count": 7,
   "metadata": {},
   "outputs": [
    {
     "data": {
      "text/plain": [
       "2"
      ]
     },
     "execution_count": 7,
     "metadata": {},
     "output_type": "execute_result"
    }
   ],
   "source": [
    "speech.count('tomorrow')"
   ]
  },
  {
   "cell_type": "code",
   "execution_count": 8,
   "metadata": {},
   "outputs": [
    {
     "data": {
      "text/plain": [
       "3"
      ]
     },
     "execution_count": 8,
     "metadata": {},
     "output_type": "execute_result"
    }
   ],
   "source": [
    "speech.lower().count('tomorrow')\n",
    "#speech.lower().find('tomorrow')"
   ]
  },
  {
   "cell_type": "markdown",
   "metadata": {},
   "source": [
    "@ We make everything lowercase so we don't care about case sensitivity"
   ]
  },
  {
   "cell_type": "code",
   "execution_count": 9,
   "metadata": {},
   "outputs": [
    {
     "data": {
      "text/plain": [
       "28"
      ]
     },
     "execution_count": 9,
     "metadata": {},
     "output_type": "execute_result"
    }
   ],
   "source": [
    "speech.upper().count('A')"
   ]
  },
  {
   "cell_type": "code",
   "execution_count": 10,
   "metadata": {},
   "outputs": [
    {
     "data": {
      "text/plain": [
       "0"
      ]
     },
     "execution_count": 10,
     "metadata": {},
     "output_type": "execute_result"
    }
   ],
   "source": [
    "speech.upper().count('a')"
   ]
  },
  {
   "cell_type": "code",
   "execution_count": 11,
   "metadata": {},
   "outputs": [
    {
     "data": {
      "text/plain": [
       "9"
      ]
     },
     "execution_count": 11,
     "metadata": {},
     "output_type": "execute_result"
    }
   ],
   "source": [
    "speech.lower().count(' a')"
   ]
  },
  {
   "cell_type": "markdown",
   "metadata": {},
   "source": [
    "@ words that start with a"
   ]
  },
  {
   "cell_type": "code",
   "execution_count": 12,
   "metadata": {},
   "outputs": [
    {
     "data": {
      "text/plain": [
       "3"
      ]
     },
     "execution_count": 12,
     "metadata": {},
     "output_type": "execute_result"
    }
   ],
   "source": [
    "speech.lower().count(' a ')"
   ]
  },
  {
   "cell_type": "markdown",
   "metadata": {},
   "source": [
    "@ occurences of the word a"
   ]
  },
  {
   "cell_type": "code",
   "execution_count": 13,
   "metadata": {},
   "outputs": [
    {
     "data": {
      "text/plain": [
       "0"
      ]
     },
     "execution_count": 13,
     "metadata": {},
     "output_type": "execute_result"
    }
   ],
   "source": [
    "speech.lower().count(' player ')"
   ]
  },
  {
   "cell_type": "markdown",
   "metadata": {},
   "source": [
    "@ because it has a comma after it"
   ]
  },
  {
   "cell_type": "markdown",
   "metadata": {},
   "source": [
    "Of course, there is already a structure to the speech that we are ignoring--it has lines. Let's get out those lines and put them into a list."
   ]
  },
  {
   "cell_type": "code",
   "execution_count": 14,
   "metadata": {},
   "outputs": [
    {
     "data": {
      "text/plain": [
       "['Tomorrow, and tomorrow, and tomorrow,',\n",
       " 'Creeps in this petty pace from day to day,',\n",
       " 'To the last syllable of recorded time;',\n",
       " 'And all our yesterdays have lighted fools',\n",
       " 'The way to dusty death. Out, out, brief candle!',\n",
       " \"Life's but a walking shadow, a poor player,\",\n",
       " 'That struts and frets his hour upon the stage,',\n",
       " 'And then is heard no more. It is a tale',\n",
       " 'Told by an idiot, full of sound and fury,',\n",
       " 'Signifying nothing.']"
      ]
     },
     "execution_count": 14,
     "metadata": {},
     "output_type": "execute_result"
    }
   ],
   "source": [
    "lines = speech.split('\\n')\n",
    "#lines = tom.splitlines() \n",
    "lines"
   ]
  },
  {
   "cell_type": "markdown",
   "metadata": {},
   "source": [
    "@ to analyse it by line, we split it by \\n"
   ]
  },
  {
   "cell_type": "code",
   "execution_count": 15,
   "metadata": {
    "collapsed": true
   },
   "outputs": [],
   "source": [
    "# periods = speech.split('.')\n",
    "# #lines = tom.splitlines() \n",
    "# periods"
   ]
  },
  {
   "cell_type": "markdown",
   "metadata": {},
   "source": [
    "@ to analyse it by period, we split it by . in case of a novel"
   ]
  },
  {
   "cell_type": "code",
   "execution_count": 16,
   "metadata": {},
   "outputs": [
    {
     "data": {
      "text/plain": [
       "'Tomorrow, and tomorrow, and tomorrow,'"
      ]
     },
     "execution_count": 16,
     "metadata": {},
     "output_type": "execute_result"
    }
   ],
   "source": [
    "firstline = lines[0]\n",
    "firstline"
   ]
  },
  {
   "cell_type": "markdown",
   "metadata": {},
   "source": [
    "Python has a handful of built-in ways to search a line. Here are just a few."
   ]
  },
  {
   "cell_type": "code",
   "execution_count": 17,
   "metadata": {},
   "outputs": [
    {
     "data": {
      "text/plain": [
       "'Tomorrow, and yesterday, and tomorrow,'"
      ]
     },
     "execution_count": 17,
     "metadata": {},
     "output_type": "execute_result"
    }
   ],
   "source": [
    "yest = firstline.replace('tomorrow','yesterday',1)\n",
    "yest"
   ]
  },
  {
   "cell_type": "markdown",
   "metadata": {},
   "source": [
    "@ it will only replace it once, if we do 2 it will replace it twice, or if we take out the name we take 'yesterday and yesterday and yesterday'"
   ]
  },
  {
   "cell_type": "code",
   "execution_count": 18,
   "metadata": {},
   "outputs": [
    {
     "data": {
      "text/plain": [
       "False"
      ]
     },
     "execution_count": 18,
     "metadata": {},
     "output_type": "execute_result"
    }
   ],
   "source": [
    "firstline.startswith('tomorrow')"
   ]
  },
  {
   "cell_type": "markdown",
   "metadata": {},
   "source": [
    "@ because there is a capital T"
   ]
  },
  {
   "cell_type": "code",
   "execution_count": 19,
   "metadata": {},
   "outputs": [
    {
     "data": {
      "text/plain": [
       "False"
      ]
     },
     "execution_count": 19,
     "metadata": {},
     "output_type": "execute_result"
    }
   ],
   "source": [
    "firstline.endswith('tomorrow')"
   ]
  },
  {
   "cell_type": "markdown",
   "metadata": {},
   "source": [
    "@ because there is a comma"
   ]
  },
  {
   "cell_type": "markdown",
   "metadata": {},
   "source": [
    "## List comprehensions\n",
    "What if we want to search through every line. The obvious way is using a `for` loop."
   ]
  },
  {
   "cell_type": "code",
   "execution_count": 20,
   "metadata": {},
   "outputs": [
    {
     "name": "stdout",
     "output_type": "stream",
     "text": [
      "And all our yesterdays have lighted fools\n",
      "And then is heard no more. It is a tale\n"
     ]
    }
   ],
   "source": [
    "for line in lines:\n",
    "    if line.startswith('And'):\n",
    "        print(line)"
   ]
  },
  {
   "cell_type": "markdown",
   "metadata": {},
   "source": [
    "That is a very simple loop, so simple that Python has a solution for a looping through a list using a one-line statement, called a **list comprehension**"
   ]
  },
  {
   "cell_type": "code",
   "execution_count": 21,
   "metadata": {},
   "outputs": [
    {
     "data": {
      "text/plain": [
       "['And all our yesterdays have lighted fools',\n",
       " 'And then is heard no more. It is a tale']"
      ]
     },
     "execution_count": 21,
     "metadata": {},
     "output_type": "execute_result"
    }
   ],
   "source": [
    "[line for line in lines if line.startswith('And')]"
   ]
  },
  {
   "cell_type": "markdown",
   "metadata": {},
   "source": [
    "@ it turns it not only to one line but also a list of the results. "
   ]
  },
  {
   "cell_type": "code",
   "execution_count": 22,
   "metadata": {},
   "outputs": [
    {
     "data": {
      "text/plain": [
       "['Tomorrow, and tomorrow, and tomorrow,',\n",
       " 'To the last syllable of recorded time;',\n",
       " 'The way to dusty death. Out, out, brief candle!',\n",
       " 'That struts and frets his hour upon the stage,',\n",
       " 'Told by an idiot, full of sound and fury,']"
      ]
     },
     "execution_count": 22,
     "metadata": {},
     "output_type": "execute_result"
    }
   ],
   "source": [
    "[line for line in lines if line.startswith('T')]"
   ]
  },
  {
   "cell_type": "code",
   "execution_count": 23,
   "metadata": {},
   "outputs": [
    {
     "data": {
      "text/plain": [
       "['Tomorrow, and tomorrow, and tomorrow,',\n",
       " 'To the last syllable of recorded time;',\n",
       " 'The way to dusty death. Out, out, brief candle!',\n",
       " 'That struts and frets his hour upon the stage,',\n",
       " 'Told by an idiot, full of sound and fury,']"
      ]
     },
     "execution_count": 23,
     "metadata": {},
     "output_type": "execute_result"
    }
   ],
   "source": [
    "myNewList =[line for line in lines if line.startswith('T')]\n",
    "myNewList"
   ]
  },
  {
   "cell_type": "code",
   "execution_count": 24,
   "metadata": {},
   "outputs": [
    {
     "data": {
      "text/plain": [
       "['Tomorrow, and tomorrow, and tomorrow,',\n",
       " 'That struts and frets his hour upon the stage,',\n",
       " 'Told by an idiot, full of sound and fury,']"
      ]
     },
     "execution_count": 24,
     "metadata": {},
     "output_type": "execute_result"
    }
   ],
   "source": [
    "myNewNewList =[line for line in lines if line.startswith('T') and line.endswith(',')]\n",
    "myNewNewList"
   ]
  },
  {
   "cell_type": "markdown",
   "metadata": {},
   "source": [
    "Remember this, when we start using more robust ways of searching line by line (sentence by sentence, etc) these will come in handy. But before we jump to those special searching methods, let's have a little detour on sorting."
   ]
  },
  {
   "cell_type": "markdown",
   "metadata": {},
   "source": [
    "## Sorting!\n",
    "Say we want to investigate the lines in the speech, and order them from longest line to shortest line. Well we know how to get the length of each line using loop, but how can we measure them to reorder our list?"
   ]
  },
  {
   "cell_type": "code",
   "execution_count": 25,
   "metadata": {},
   "outputs": [
    {
     "name": "stdout",
     "output_type": "stream",
     "text": [
      "37\n",
      "42\n",
      "38\n",
      "41\n",
      "47\n",
      "43\n",
      "46\n",
      "39\n",
      "41\n",
      "19\n"
     ]
    }
   ],
   "source": [
    "for line in lines:\n",
    "    print(len(line))"
   ]
  },
  {
   "cell_type": "markdown",
   "metadata": {},
   "source": [
    "@ we can sort for i.e. for what's the shortest line to the longer line."
   ]
  },
  {
   "cell_type": "markdown",
   "metadata": {},
   "source": [
    "We could write a function that pairs these numbers with each line, and then sorts through everything--but sort functions are notoriously challenging to write. And Python has a built in sorting function."
   ]
  },
  {
   "cell_type": "code",
   "execution_count": 26,
   "metadata": {},
   "outputs": [
    {
     "data": {
      "text/plain": [
       "['And all our yesterdays have lighted fools',\n",
       " 'And then is heard no more. It is a tale',\n",
       " 'Creeps in this petty pace from day to day,',\n",
       " \"Life's but a walking shadow, a poor player,\",\n",
       " 'Signifying nothing.',\n",
       " 'That struts and frets his hour upon the stage,',\n",
       " 'The way to dusty death. Out, out, brief candle!',\n",
       " 'To the last syllable of recorded time;',\n",
       " 'Told by an idiot, full of sound and fury,',\n",
       " 'Tomorrow, and tomorrow, and tomorrow,']"
      ]
     },
     "execution_count": 26,
     "metadata": {},
     "output_type": "execute_result"
    }
   ],
   "source": [
    "sortlines = lines.copy()\n",
    "sortlines.sort()\n",
    "sortlines"
   ]
  },
  {
   "cell_type": "markdown",
   "metadata": {},
   "source": [
    "@ We do copy( ) in order not to overwrite the original list. We just make a copy in order to sort it. "
   ]
  },
  {
   "cell_type": "markdown",
   "metadata": {},
   "source": [
    "But not only that, Python has a built in mini-function generator called `lambda` that you can nest inside at sorting function."
   ]
  },
  {
   "cell_type": "code",
   "execution_count": 27,
   "metadata": {},
   "outputs": [
    {
     "data": {
      "text/plain": [
       "['The way to dusty death. Out, out, brief candle!',\n",
       " 'That struts and frets his hour upon the stage,',\n",
       " \"Life's but a walking shadow, a poor player,\",\n",
       " 'Creeps in this petty pace from day to day,',\n",
       " 'And all our yesterdays have lighted fools',\n",
       " 'Told by an idiot, full of sound and fury,',\n",
       " 'And then is heard no more. It is a tale',\n",
       " 'To the last syllable of recorded time;',\n",
       " 'Tomorrow, and tomorrow, and tomorrow,',\n",
       " 'Signifying nothing.']"
      ]
     },
     "execution_count": 27,
     "metadata": {},
     "output_type": "execute_result"
    }
   ],
   "source": [
    "sortlines = lines.copy()\n",
    "sortlines.sort(key=lambda line: len(line), reverse=True)\n",
    "#sortlines.sort(key=lambda line: line.split()[-1], reverse=True)\n",
    "sortlines"
   ]
  },
  {
   "cell_type": "markdown",
   "metadata": {},
   "source": [
    "@ lambda is a way of doing a new function, I make it do it the longest line first. "
   ]
  },
  {
   "cell_type": "code",
   "execution_count": 28,
   "metadata": {},
   "outputs": [
    {
     "data": {
      "text/plain": [
       "['Tomorrow, and tomorrow, and tomorrow,',\n",
       " 'To the last syllable of recorded time;',\n",
       " 'And then is heard no more. It is a tale',\n",
       " 'That struts and frets his hour upon the stage,',\n",
       " \"Life's but a walking shadow, a poor player,\",\n",
       " 'Signifying nothing.',\n",
       " 'Told by an idiot, full of sound and fury,',\n",
       " 'And all our yesterdays have lighted fools',\n",
       " 'Creeps in this petty pace from day to day,',\n",
       " 'The way to dusty death. Out, out, brief candle!']"
      ]
     },
     "execution_count": 28,
     "metadata": {},
     "output_type": "execute_result"
    }
   ],
   "source": [
    "sortlines = lines.copy()\n",
    "#sortlines.sort(key=lambda line: len(line), reverse=True)\n",
    "sortlines.sort(key=lambda line: line.split()[-1], reverse=True)\n",
    "sortlines"
   ]
  },
  {
   "cell_type": "markdown",
   "metadata": {},
   "source": [
    "@ sorted reverse-alphabetically by last word"
   ]
  },
  {
   "cell_type": "markdown",
   "metadata": {},
   "source": [
    "## Regular Expressions\n",
    "The more you work with unstructured text, the greater desire you will have for the power that regular expressions give you. Regular expressions are a mini-language to themselves (often sharing similarities across different programming languages). They allow you to search for a variety of patterns within text. The most obvious **patterns **you might find our telephone numbers, ZIP Codes, email addresses (social security numbers and credit card numbers for the more malicious)--and many regular expressions have been written to capture these with varying levels accuracy. Today, however, our focus will be on exploring text.\n",
    "\n",
    "First import the built-in regular expression library `re`"
   ]
  },
  {
   "cell_type": "code",
   "execution_count": 29,
   "metadata": {
    "collapsed": true
   },
   "outputs": [],
   "source": [
    "import re"
   ]
  },
  {
   "cell_type": "markdown",
   "metadata": {},
   "source": [
    "@ actually we ask: \"does this exist anywhere here?\", we are searching for patterns"
   ]
  },
  {
   "cell_type": "markdown",
   "metadata": {},
   "source": [
    "There are five main regular expression functions that we will work with:\n",
    "\n",
    "**match()** & **search()**: these methods tell you whether or not they found a match, and where that match was located--although match() only searches at the very beginning of the line--so it is rarely useful.\n",
    "\n",
    "**split()** & **sub()**: these two work just like split() & replace(), but they search for patterns and return a list or a substitute string respective.\n",
    "\n",
    "**findall()**: just as the name sounds, this method returns a list of matching patterns that were found throughout the entire string."
   ]
  },
  {
   "cell_type": "code",
   "execution_count": 30,
   "metadata": {},
   "outputs": [
    {
     "data": {
      "text/plain": [
       "'morrow'"
      ]
     },
     "execution_count": 30,
     "metadata": {},
     "output_type": "execute_result"
    }
   ],
   "source": [
    "#found = re.match(\"morrow\",firstline,re.IGNORECASE)\n",
    "found = re.search(\"morrow\",firstline,re.IGNORECASE)\n",
    "found.group()\n",
    "#found.end()"
   ]
  },
  {
   "cell_type": "code",
   "execution_count": 31,
   "metadata": {},
   "outputs": [
    {
     "data": {
      "text/plain": [
       "2"
      ]
     },
     "execution_count": 31,
     "metadata": {},
     "output_type": "execute_result"
    }
   ],
   "source": [
    "# found = re.match(\"morrow\",firstline,re.IGNORECASE)\n",
    "found = re.search(\"morrow\",firstline,re.IGNORECASE)\n",
    "# found.group()\n",
    "found.start()"
   ]
  },
  {
   "cell_type": "markdown",
   "metadata": {},
   "source": [
    "--> INGORECASE are called flags"
   ]
  },
  {
   "cell_type": "markdown",
   "metadata": {},
   "source": [
    "--> list comprehension is useful of a search, a no-yes answer"
   ]
  },
  {
   "cell_type": "code",
   "execution_count": 33,
   "metadata": {},
   "outputs": [
    {
     "name": "stdout",
     "output_type": "stream",
     "text": [
      "['Tomorrow, ', ' tomorrow, ', ' tomorrow,'] yesterday, and yesterday, and yesterday,\n"
     ]
    }
   ],
   "source": [
    "newlist = re.split(\"and\",firstline,flags=re.IGNORECASE)\n",
    "newstring = re.sub(\"tomorrow\",\"yesterday\",firstline,flags=re.IGNORECASE)\n",
    "print(newlist,newstring)"
   ]
  },
  {
   "cell_type": "code",
   "execution_count": 103,
   "metadata": {},
   "outputs": [
    {
     "data": {
      "text/plain": [
       "['Tomorrow',\n",
       " 'and',\n",
       " 'tomorrow',\n",
       " 'and',\n",
       " 'tomorrow',\n",
       " 'Creeps',\n",
       " 'in',\n",
       " 'this',\n",
       " 'petty',\n",
       " 'pace',\n",
       " 'from',\n",
       " 'day',\n",
       " 'to',\n",
       " 'day',\n",
       " 'To',\n",
       " 'the',\n",
       " 'last',\n",
       " 'syllable',\n",
       " 'of',\n",
       " 'recorded',\n",
       " 'time',\n",
       " 'And',\n",
       " 'all',\n",
       " 'our',\n",
       " 'yesterdays',\n",
       " 'have',\n",
       " 'lighted',\n",
       " 'fools',\n",
       " 'The',\n",
       " 'way',\n",
       " 'to',\n",
       " 'dusty',\n",
       " 'death',\n",
       " 'Out',\n",
       " 'out',\n",
       " 'brief',\n",
       " 'candle',\n",
       " 'Life',\n",
       " 's',\n",
       " 'but',\n",
       " 'a',\n",
       " 'walking',\n",
       " 'shadow',\n",
       " 'a',\n",
       " 'poor',\n",
       " 'player',\n",
       " 'That',\n",
       " 'struts',\n",
       " 'and',\n",
       " 'frets',\n",
       " 'his',\n",
       " 'hour',\n",
       " 'upon',\n",
       " 'the',\n",
       " 'stage',\n",
       " 'And',\n",
       " 'then',\n",
       " 'is',\n",
       " 'heard',\n",
       " 'no',\n",
       " 'more',\n",
       " 'It',\n",
       " 'is',\n",
       " 'a',\n",
       " 'tale',\n",
       " 'Told',\n",
       " 'by',\n",
       " 'an',\n",
       " 'idiot',\n",
       " 'full',\n",
       " 'of',\n",
       " 'sound',\n",
       " 'and',\n",
       " 'fury',\n",
       " 'Signifying',\n",
       " 'nothing',\n",
       " '']"
      ]
     },
     "execution_count": 103,
     "metadata": {},
     "output_type": "execute_result"
    }
   ],
   "source": [
    "newlist = re.split(\"\\W+\",speech)\n",
    "newstring = re.sub(\"tomorrow\",\"yesterday\",firstline,flags=re.IGNORECASE)\n",
    "newlist"
   ]
  },
  {
   "cell_type": "code",
   "execution_count": 104,
   "metadata": {},
   "outputs": [
    {
     "data": {
      "text/plain": [
       "\"Tomorrow, and tomorrow, and tomorrow,\\nCreeps in this petty pace from day to day,\\nTo the last syllable of recorded time;\\nAnd all our yesterdays have lighted fools\\nThe way to dusty death. Out, out, brief candle!\\nLife's but a walking shadow, a poor player,\\nThat struts and frets his hour upon the stage,\\nAnd then is heard no more. It is a tale\\nTold by an idiot, full of sound and fury,\\nSignifying nothing.\""
      ]
     },
     "execution_count": 104,
     "metadata": {},
     "output_type": "execute_result"
    }
   ],
   "source": [
    "newlist = re.split(\"\\W+\",speech)\n",
    "newstring = re.sub(\"tomorrow\",\"yesterday\",firstline,flags=re.IGNORECASE)\n",
    "newlist\n",
    "speech"
   ]
  },
  {
   "cell_type": "code",
   "execution_count": 105,
   "metadata": {},
   "outputs": [
    {
     "data": {
      "text/plain": [
       "['Tomorrow',\n",
       " 'and',\n",
       " 'tomorrow',\n",
       " 'and',\n",
       " 'tomorrow',\n",
       " 'Creeps',\n",
       " 'in',\n",
       " 'this',\n",
       " 'petty',\n",
       " 'pace',\n",
       " 'from',\n",
       " 'day',\n",
       " 'to',\n",
       " 'day',\n",
       " 'To',\n",
       " 'the',\n",
       " 'last',\n",
       " 'syllable',\n",
       " 'of',\n",
       " 'recorded',\n",
       " 'time',\n",
       " 'And',\n",
       " 'all',\n",
       " 'our',\n",
       " 'yesterdays',\n",
       " 'have',\n",
       " 'lighted',\n",
       " 'fools',\n",
       " 'The',\n",
       " 'way',\n",
       " 'to',\n",
       " 'dusty',\n",
       " 'death',\n",
       " 'Out',\n",
       " 'out',\n",
       " 'brief',\n",
       " 'candle',\n",
       " 'Life',\n",
       " 's',\n",
       " 'but',\n",
       " 'a',\n",
       " 'walking',\n",
       " 'shadow',\n",
       " 'a',\n",
       " 'poor',\n",
       " 'player',\n",
       " 'That',\n",
       " 'struts',\n",
       " 'and',\n",
       " 'frets',\n",
       " 'his',\n",
       " 'hour',\n",
       " 'upon',\n",
       " 'the',\n",
       " 'stage',\n",
       " 'And',\n",
       " 'then',\n",
       " 'is',\n",
       " 'heard',\n",
       " 'no',\n",
       " 'more',\n",
       " 'It',\n",
       " 'is',\n",
       " 'a',\n",
       " 'tale',\n",
       " 'Told',\n",
       " 'by',\n",
       " 'an',\n",
       " 'idiot',\n",
       " 'full',\n",
       " 'of',\n",
       " 'sound',\n",
       " 'and',\n",
       " 'fury',\n",
       " 'Signifying',\n",
       " 'nothing']"
      ]
     },
     "execution_count": 105,
     "metadata": {},
     "output_type": "execute_result"
    }
   ],
   "source": [
    "words =re.findall(r\"\\b\\w+\\b\", speech)\n",
    "words"
   ]
  },
  {
   "cell_type": "markdown",
   "metadata": {},
   "source": [
    "-->ignores all the punctuations"
   ]
  },
  {
   "cell_type": "markdown",
   "metadata": {},
   "source": [
    "--> we can also do it by split()"
   ]
  },
  {
   "cell_type": "markdown",
   "metadata": {},
   "source": [
    "the + (plus) is saying one or more"
   ]
  },
  {
   "cell_type": "code",
   "execution_count": null,
   "metadata": {
    "collapsed": true
   },
   "outputs": [],
   "source": []
  },
  {
   "cell_type": "code",
   "execution_count": null,
   "metadata": {
    "collapsed": true
   },
   "outputs": [],
   "source": []
  },
  {
   "cell_type": "code",
   "execution_count": null,
   "metadata": {
    "collapsed": true
   },
   "outputs": [],
   "source": []
  },
  {
   "cell_type": "code",
   "execution_count": 34,
   "metadata": {},
   "outputs": [
    {
     "data": {
      "text/plain": [
       "['To', 'to', 'to']"
      ]
     },
     "execution_count": 34,
     "metadata": {},
     "output_type": "execute_result"
    }
   ],
   "source": [
    "words = re.findall(\"to\",firstline,re.IGNORECASE)\n",
    "words"
   ]
  },
  {
   "cell_type": "code",
   "execution_count": 35,
   "metadata": {},
   "outputs": [
    {
     "data": {
      "text/plain": [
       "['morrow', 'morrow', 'morrow']"
      ]
     },
     "execution_count": 35,
     "metadata": {},
     "output_type": "execute_result"
    }
   ],
   "source": [
    "words = re.findall(\"morrow\",firstline,re.IGNORECASE)\n",
    "words"
   ]
  },
  {
   "cell_type": "code",
   "execution_count": 36,
   "metadata": {},
   "outputs": [
    {
     "data": {
      "text/plain": [
       "['Tomorrow', 'tomorrow', 'tomorrow']"
      ]
     },
     "execution_count": 36,
     "metadata": {},
     "output_type": "execute_result"
    }
   ],
   "source": [
    "words = re.findall(\"..morrow\",firstline,re.IGNORECASE)\n",
    "words"
   ]
  },
  {
   "cell_type": "markdown",
   "metadata": {},
   "source": [
    "--> word with two characters before the morrow."
   ]
  },
  {
   "cell_type": "code",
   "execution_count": 37,
   "metadata": {},
   "outputs": [
    {
     "data": {
      "text/plain": [
       "['Tom', 'row', 'tom', 'row', 'tom', 'row']"
      ]
     },
     "execution_count": 37,
     "metadata": {},
     "output_type": "execute_result"
    }
   ],
   "source": [
    "words = re.findall(\".o.\",firstline,re.IGNORECASE)\n",
    "words"
   ]
  },
  {
   "cell_type": "markdown",
   "metadata": {},
   "source": [
    "--> give me two characters with an o in the middle"
   ]
  },
  {
   "cell_type": "markdown",
   "metadata": {},
   "source": [
    "--> find all will give us all the results"
   ]
  },
  {
   "cell_type": "code",
   "execution_count": 55,
   "metadata": {},
   "outputs": [
    {
     "data": {
      "text/plain": [
       "['Tom', 'tom', 'tom', 'to ', 'To ', 'to ', 'Tol']"
      ]
     },
     "execution_count": 55,
     "metadata": {},
     "output_type": "execute_result"
    }
   ],
   "source": [
    "words = re.findall(\"to.\", speech, re.IGNORECASE)\n",
    "words"
   ]
  },
  {
   "cell_type": "code",
   "execution_count": 63,
   "metadata": {},
   "outputs": [
    {
     "data": {
      "text/plain": [
       "['Tom', 'tom', 'tom', 'Tol']"
      ]
     },
     "execution_count": 63,
     "metadata": {},
     "output_type": "execute_result"
    }
   ],
   "source": [
    "words = re.findall(r\"to\\w\", speech, re.IGNORECASE)\n",
    "words\n",
    "# we put the r to tell it that we want a regular experession thing. "
   ]
  },
  {
   "cell_type": "code",
   "execution_count": 64,
   "metadata": {},
   "outputs": [
    {
     "data": {
      "text/plain": [
       "['Tom', 'tom', 'tom', 'Tol']"
      ]
     },
     "execution_count": 64,
     "metadata": {},
     "output_type": "execute_result"
    }
   ],
   "source": [
    "words = re.findall(\"to\\w\", speech, re.IGNORECASE)\n",
    "words"
   ]
  },
  {
   "cell_type": "markdown",
   "metadata": {},
   "source": [
    "--> \"to\" and a word character after it"
   ]
  },
  {
   "cell_type": "markdown",
   "metadata": {},
   "source": [
    "\"r\" tell us that the\"_\" that follows is not just a string, it's a regular expression thing. --> "
   ]
  },
  {
   "cell_type": "code",
   "execution_count": 65,
   "metadata": {},
   "outputs": [
    {
     "data": {
      "text/plain": [
       "['Tomorrow', 'tomorrow', 'tomorrow', 'to', 'To', 'to', 'Told']"
      ]
     },
     "execution_count": 65,
     "metadata": {},
     "output_type": "execute_result"
    }
   ],
   "source": [
    "words = re.findall(r\"to\\w*\", speech, re.IGNORECASE)\n",
    "words"
   ]
  },
  {
   "cell_type": "markdown",
   "metadata": {},
   "source": [
    "--> \"to\\w*\" and a word character after it, and it gives us the whole word"
   ]
  },
  {
   "cell_type": "code",
   "execution_count": 66,
   "metadata": {},
   "outputs": [
    {
     "data": {
      "text/plain": [
       "['Tomorrow', 'tomorrow', 'tomorrow', 'to day', 'To the', 'to dusty', 'Told']"
      ]
     },
     "execution_count": 66,
     "metadata": {},
     "output_type": "execute_result"
    }
   ],
   "source": [
    "words = re.findall(r\"to\\W*\\w*\", speech, re.IGNORECASE)\n",
    "words"
   ]
  },
  {
   "cell_type": "markdown",
   "metadata": {},
   "source": [
    "--> To-morrow , to-morrow, to day, to"
   ]
  },
  {
   "cell_type": "code",
   "execution_count": 67,
   "metadata": {},
   "outputs": [
    {
     "data": {
      "text/plain": [
       "['Tomorrow', 'tomorrow', 'tomorrow', 'to', 'To', 'to', 'Told']"
      ]
     },
     "execution_count": 67,
     "metadata": {},
     "output_type": "execute_result"
    }
   ],
   "source": [
    "words = re.findall(r\"to-*\\w*\", speech, re.IGNORECASE)\n",
    "words"
   ]
  },
  {
   "cell_type": "markdown",
   "metadata": {},
   "source": [
    "--> To-morrow , to-morrow, to day, to"
   ]
  },
  {
   "cell_type": "markdown",
   "metadata": {},
   "source": [
    "--> ALL LISTED IN SHORTCUTS TABLE LATER IN THIS DOCUMENT"
   ]
  },
  {
   "cell_type": "code",
   "execution_count": 70,
   "metadata": {},
   "outputs": [
    {
     "data": {
      "text/plain": [
       "['Tomorrow,', 'tomorrow,', 'tomorrow,', 'to', 'To', 'to', 'Told']"
      ]
     },
     "execution_count": 70,
     "metadata": {},
     "output_type": "execute_result"
    }
   ],
   "source": [
    "words = re.findall(r\"to\\S*\", speech, re.IGNORECASE)\n",
    "words"
   ]
  },
  {
   "cell_type": "markdown",
   "metadata": {},
   "source": [
    "--> any non-space characters followed by to, give me the word"
   ]
  },
  {
   "cell_type": "code",
   "execution_count": 71,
   "metadata": {},
   "outputs": [
    {
     "data": {
      "text/plain": [
       "[' tomorrow,', ' tomorrow,', ' to', ' to']"
      ]
     },
     "execution_count": 71,
     "metadata": {},
     "output_type": "execute_result"
    }
   ],
   "source": [
    "words = re.findall(r\".to\\S*\", speech, re.IGNORECASE)\n",
    "words"
   ]
  },
  {
   "cell_type": "markdown",
   "metadata": {},
   "source": [
    "--> one character before the \"to\" and non-space character after it"
   ]
  },
  {
   "cell_type": "code",
   "execution_count": 72,
   "metadata": {},
   "outputs": [
    {
     "data": {
      "text/plain": [
       "['Tomorrow, and tomorrow, and tomorrow,',\n",
       " 'Creeps in this petty pace from day to',\n",
       " 'To',\n",
       " 'The way to',\n",
       " 'Told']"
      ]
     },
     "execution_count": 72,
     "metadata": {},
     "output_type": "execute_result"
    }
   ],
   "source": [
    "words = re.findall(r\".*to\\S*\", speech, re.IGNORECASE)\n",
    "words"
   ]
  },
  {
   "cell_type": "markdown",
   "metadata": {},
   "source": [
    "The only way to understnad that a word is beggining is that there is no other letter before it.\n",
    "\n",
    "\n"
   ]
  },
  {
   "cell_type": "code",
   "execution_count": 73,
   "metadata": {},
   "outputs": [
    {
     "data": {
      "text/plain": [
       "['the', 'The', 'the', 'the']"
      ]
     },
     "execution_count": 73,
     "metadata": {},
     "output_type": "execute_result"
    }
   ],
   "source": [
    "words = re.findall(r\"\\bthe\", speech, re.IGNORECASE)\n",
    "words"
   ]
  },
  {
   "cell_type": "markdown",
   "metadata": {},
   "source": [
    "--> words that begin with the and keep going"
   ]
  },
  {
   "cell_type": "code",
   "execution_count": 74,
   "metadata": {},
   "outputs": [
    {
     "data": {
      "text/plain": [
       "['the', 'The', 'the']"
      ]
     },
     "execution_count": 74,
     "metadata": {},
     "output_type": "execute_result"
    }
   ],
   "source": [
    "words = re.findall(r\"\\bthe\\b\", speech, re.IGNORECASE)\n",
    "words"
   ]
  },
  {
   "cell_type": "markdown",
   "metadata": {},
   "source": [
    "--> \\b is word boundary"
   ]
  },
  {
   "cell_type": "markdown",
   "metadata": {},
   "source": [
    "CASE SENSITIVE SEARCH:"
   ]
  },
  {
   "cell_type": "code",
   "execution_count": 77,
   "metadata": {},
   "outputs": [
    {
     "data": {
      "text/plain": [
       "['Tomorrow',\n",
       " 'Creeps',\n",
       " 'To',\n",
       " 'And',\n",
       " 'The',\n",
       " 'Out',\n",
       " 'Life',\n",
       " 'That',\n",
       " 'And',\n",
       " 'It',\n",
       " 'Told',\n",
       " 'Signifying']"
      ]
     },
     "execution_count": 77,
     "metadata": {},
     "output_type": "execute_result"
    }
   ],
   "source": [
    "words = re.findall(r\"\\b[A-Z]\\w*\\b\", speech)\n",
    "words"
   ]
  },
  {
   "cell_type": "markdown",
   "metadata": {},
   "source": [
    "--> if we want to find capital letters, that either are followed or not from other letters. "
   ]
  },
  {
   "cell_type": "code",
   "execution_count": 78,
   "metadata": {},
   "outputs": [
    {
     "data": {
      "text/plain": [
       "['Tomorrow',\n",
       " 'Creeps',\n",
       " 'To',\n",
       " 'And',\n",
       " 'The',\n",
       " 'Out',\n",
       " 'Life',\n",
       " 'That',\n",
       " 'And',\n",
       " 'It',\n",
       " 'Told',\n",
       " 'Signifying']"
      ]
     },
     "execution_count": 78,
     "metadata": {},
     "output_type": "execute_result"
    }
   ],
   "source": [
    "words = re.findall(r\"\\b[A-Z]\\w+\\b\", speech)\n",
    "words"
   ]
  },
  {
   "cell_type": "markdown",
   "metadata": {},
   "source": [
    "--> a word with one or more letters that follow it, not none. "
   ]
  },
  {
   "cell_type": "code",
   "execution_count": 79,
   "metadata": {},
   "outputs": [
    {
     "data": {
      "text/plain": [
       "['And', 'The', 'Out', 'And']"
      ]
     },
     "execution_count": 79,
     "metadata": {},
     "output_type": "execute_result"
    }
   ],
   "source": [
    "words = re.findall(r\"\\b[A-Z]\\w{2}\\b\", speech)\n",
    "words"
   ]
  },
  {
   "cell_type": "markdown",
   "metadata": {},
   "source": [
    "--> returns 3-letter words that begin with a capital letter"
   ]
  },
  {
   "cell_type": "code",
   "execution_count": null,
   "metadata": {
    "collapsed": true
   },
   "outputs": [],
   "source": [
    "words = re.findall(r\"\\b[A-Z]\\w{2},\\b\", speech)\n",
    "words"
   ]
  },
  {
   "cell_type": "markdown",
   "metadata": {},
   "source": [
    "--> returns 3-letter words or longer that begin with a capital"
   ]
  },
  {
   "cell_type": "code",
   "execution_count": 86,
   "metadata": {},
   "outputs": [
    {
     "data": {
      "text/plain": [
       "[]"
      ]
     },
     "execution_count": 86,
     "metadata": {},
     "output_type": "execute_result"
    }
   ],
   "source": [
    "words = re.findall(r\"\\b[A-Z]\\w{4}\\b\", speech)\n",
    "words"
   ]
  },
  {
   "cell_type": "markdown",
   "metadata": {},
   "source": [
    "--> returns 5-letter words or longer that begin with a capital"
   ]
  },
  {
   "cell_type": "code",
   "execution_count": 85,
   "metadata": {},
   "outputs": [
    {
     "data": {
      "text/plain": [
       "['Creeps', 'Life', 'That', 'Told']"
      ]
     },
     "execution_count": 85,
     "metadata": {},
     "output_type": "execute_result"
    }
   ],
   "source": [
    "words = re.findall(r\"\\b[A-Z]\\w{3,5}\\b\", speech)\n",
    "words"
   ]
  },
  {
   "cell_type": "markdown",
   "metadata": {},
   "source": [
    "--> you can do a range"
   ]
  },
  {
   "cell_type": "code",
   "execution_count": 84,
   "metadata": {},
   "outputs": [
    {
     "data": {
      "text/plain": [
       "['and',\n",
       " 'and',\n",
       " 'this',\n",
       " 'petty',\n",
       " 'pace',\n",
       " 'from',\n",
       " 'day',\n",
       " 'day',\n",
       " 'the',\n",
       " 'last',\n",
       " 'time',\n",
       " 'And',\n",
       " 'all',\n",
       " 'our',\n",
       " 'have',\n",
       " 'fools',\n",
       " 'The',\n",
       " 'way',\n",
       " 'dusty',\n",
       " 'death',\n",
       " 'Out',\n",
       " 'out',\n",
       " 'brief',\n",
       " 'Life',\n",
       " 'but',\n",
       " 'poor',\n",
       " 'That',\n",
       " 'and',\n",
       " 'frets',\n",
       " 'his',\n",
       " 'hour',\n",
       " 'upon',\n",
       " 'the',\n",
       " 'stage',\n",
       " 'And',\n",
       " 'then',\n",
       " 'heard',\n",
       " 'more',\n",
       " 'tale',\n",
       " 'Told',\n",
       " 'idiot',\n",
       " 'full',\n",
       " 'sound',\n",
       " 'and',\n",
       " 'fury']"
      ]
     },
     "execution_count": 84,
     "metadata": {},
     "output_type": "execute_result"
    }
   ],
   "source": [
    "words = re.findall(r\"\\b\\w{3,5}\\b\", speech)\n",
    "words"
   ]
  },
  {
   "cell_type": "markdown",
   "metadata": {},
   "source": [
    "--> no matter the start letter, just number of characters"
   ]
  },
  {
   "cell_type": "code",
   "execution_count": 87,
   "metadata": {},
   "outputs": [
    {
     "data": {
      "text/plain": [
       "['Creeps',\n",
       " 'this',\n",
       " 'yesterdays',\n",
       " 'fools',\n",
       " 's',\n",
       " 'struts',\n",
       " 'frets',\n",
       " 'his',\n",
       " 'is',\n",
       " 'is']"
      ]
     },
     "execution_count": 87,
     "metadata": {},
     "output_type": "execute_result"
    }
   ],
   "source": [
    "words = re.findall(r\"\\b\\w*s\\b\", speech)\n",
    "words"
   ]
  },
  {
   "cell_type": "markdown",
   "metadata": {},
   "source": [
    "--> words that end with s' apostrophe. "
   ]
  },
  {
   "cell_type": "markdown",
   "metadata": {},
   "source": [
    "## Special characters\n",
    "While the search methods above are more useful than what's built into Python, it is the pattern seeking commands that--once you get used to them--do the most powerful work.\n",
    "\n",
    "Here's a list  of the most common pattern seeking characters:\n",
    "\n",
    "| special character | what it does |\n",
    "|--------|---------|\n",
    "| `.` | Match any character except newline |\n",
    "| `^` | match the beginning of string |\n",
    "| `$` | match the end of string, including `\\n` |\n",
    "| `*` | match 0 or more repetitions |\n",
    "| `+` | match 1 or more repetitions  |\n",
    "| `?` | match 0 or 1 repetitions  |\n",
    "| `{m}` | m specifies the number of repetitions  |\n",
    "| `{m,n}` | m and n specifies a range of repetitions  |\n",
    "| `{m,}` | m specifies the minimum number of repetitions  |\n"
   ]
  },
  {
   "cell_type": "code",
   "execution_count": 90,
   "metadata": {},
   "outputs": [
    {
     "data": {
      "text/plain": [
       "['Tomorrow, and tomorrow',\n",
       " 'Creeps in this petty p',\n",
       " 'To the last syllable o',\n",
       " 'And all our yesterdays',\n",
       " 'The way to dusty death',\n",
       " '. Out, out, brief cand',\n",
       " \"Life's but a walking s\",\n",
       " 'That struts and frets ',\n",
       " 'his hour upon the stag',\n",
       " 'And then is heard no m',\n",
       " 'Told by an idiot, full']"
      ]
     },
     "execution_count": 90,
     "metadata": {},
     "output_type": "execute_result"
    }
   ],
   "source": [
    "words = re.findall(r\".{22}\", speech, re.IGNORECASE)\n",
    "words"
   ]
  },
  {
   "cell_type": "code",
   "execution_count": 38,
   "metadata": {},
   "outputs": [
    {
     "data": {
      "text/plain": [
       "3"
      ]
     },
     "execution_count": 38,
     "metadata": {},
     "output_type": "execute_result"
    }
   ],
   "source": [
    "words = re.findall(\"to\",firstline,re.IGNORECASE)\n",
    "len(words)"
   ]
  },
  {
   "cell_type": "code",
   "execution_count": 39,
   "metadata": {},
   "outputs": [
    {
     "data": {
      "text/plain": [
       "['syll', ' all', 'full']"
      ]
     },
     "execution_count": 39,
     "metadata": {},
     "output_type": "execute_result"
    }
   ],
   "source": [
    "all_ll = re.findall(\"..ll\",speech)\n",
    "#re.search(\"^Tomorrow\",firstline)\n",
    "#re.search(\"tomorrow,$\",firstline)\n",
    "all_ll\n"
   ]
  },
  {
   "cell_type": "markdown",
   "metadata": {},
   "source": [
    "@ search for stuff that end in ll"
   ]
  },
  {
   "cell_type": "code",
   "execution_count": 40,
   "metadata": {},
   "outputs": [
    {
     "data": {
      "text/plain": [
       "['syllab', ' all o', 'full o']"
      ]
     },
     "execution_count": 40,
     "metadata": {},
     "output_type": "execute_result"
    }
   ],
   "source": [
    "all_ll = re.findall(\"..ll..\",speech)\n",
    "#re.search(\"^Tomorrow\",firstline)\n",
    "#re.search(\"tomorrow,$\",firstline)\n",
    "all_ll"
   ]
  },
  {
   "cell_type": "markdown",
   "metadata": {},
   "source": [
    "@ if I put .. I will get what comes after it as well."
   ]
  },
  {
   "cell_type": "markdown",
   "metadata": {},
   "source": [
    "## List comprehension !!!! same thing as a for loop but it also automatically makes a list"
   ]
  },
  {
   "cell_type": "code",
   "execution_count": 41,
   "metadata": {},
   "outputs": [
    {
     "data": {
      "text/plain": [
       "['And all our yesterdays have lighted fools',\n",
       " 'And then is heard no more. It is a tale']"
      ]
     },
     "execution_count": 41,
     "metadata": {},
     "output_type": "execute_result"
    }
   ],
   "source": [
    "#a list comprehension again!\n",
    "#Note that match() would produce the same thing\n",
    "[line for line in lines if re.search(\"^And\",line)]"
   ]
  },
  {
   "cell_type": "markdown",
   "metadata": {},
   "source": [
    "--> same as \"starts with\""
   ]
  },
  {
   "cell_type": "code",
   "execution_count": 93,
   "metadata": {},
   "outputs": [
    {
     "data": {
      "text/plain": [
       "['Tomorrow, and tomorrow, and tomorrow,',\n",
       " 'Creeps in this petty pace from day to day,',\n",
       " \"Life's but a walking shadow, a poor player,\",\n",
       " 'That struts and frets his hour upon the stage,',\n",
       " 'Told by an idiot, full of sound and fury,']"
      ]
     },
     "execution_count": 93,
     "metadata": {},
     "output_type": "execute_result"
    }
   ],
   "source": [
    "[line for line in lines if re.search(\",$\",line)]"
   ]
  },
  {
   "cell_type": "markdown",
   "metadata": {},
   "source": [
    "--> $ is end fo line"
   ]
  },
  {
   "cell_type": "code",
   "execution_count": 94,
   "metadata": {},
   "outputs": [
    {
     "data": {
      "text/plain": [
       "['Signifying nothing.']"
      ]
     },
     "execution_count": 94,
     "metadata": {},
     "output_type": "execute_result"
    }
   ],
   "source": [
    "[line for line in lines if re.search(\"^.{0,20}$\",line)]"
   ]
  },
  {
   "cell_type": "markdown",
   "metadata": {},
   "source": [
    "--> we are searching for a line that is 0-20 characters long"
   ]
  },
  {
   "cell_type": "code",
   "execution_count": 43,
   "metadata": {},
   "outputs": [
    {
     "data": {
      "text/plain": [
       "['Creeps in this petty pace from day to day,',\n",
       " 'Told by an idiot, full of sound and fury,']"
      ]
     },
     "execution_count": 43,
     "metadata": {},
     "output_type": "execute_result"
    }
   ],
   "source": [
    "[line for line in lines if re.search(\"y,$\",line)]"
   ]
  },
  {
   "cell_type": "markdown",
   "metadata": {},
   "source": [
    "@ lines that end with y and a comma"
   ]
  },
  {
   "cell_type": "markdown",
   "metadata": {},
   "source": [
    "UNDERSTANDING BETTER LIST COMPREHENSION:"
   ]
  },
  {
   "cell_type": "code",
   "execution_count": 95,
   "metadata": {},
   "outputs": [
    {
     "data": {
      "text/plain": [
       "['Creeps in this petty pace from day to day,',\n",
       " 'And all our yesterdays have lighted fools',\n",
       " 'The way to dusty death. Out, out, brief candle!',\n",
       " \"Life's but a walking shadow, a poor player,\",\n",
       " 'That struts and frets his hour upon the stage,',\n",
       " 'Told by an idiot, full of sound and fury,']"
      ]
     },
     "execution_count": 95,
     "metadata": {},
     "output_type": "execute_result"
    }
   ],
   "source": [
    "[line for line in lines if len(line) > 40]"
   ]
  },
  {
   "cell_type": "code",
   "execution_count": 107,
   "metadata": {},
   "outputs": [
    {
     "data": {
      "text/plain": [
       "['Creeps in this petty pace from day to day,']"
      ]
     },
     "execution_count": 107,
     "metadata": {},
     "output_type": "execute_result"
    }
   ],
   "source": [
    "[line for line in lines if re.search(r\"\\bday\\b\", line)]"
   ]
  },
  {
   "cell_type": "code",
   "execution_count": 108,
   "metadata": {},
   "outputs": [
    {
     "data": {
      "text/plain": [
       "[['day', 'day']]"
      ]
     },
     "execution_count": 108,
     "metadata": {},
     "output_type": "execute_result"
    }
   ],
   "source": [
    "[(re.findall(r\"\\bday\\b\", line)) for line in lines if re.findall(r\"\\bday\\b\", line)]"
   ]
  },
  {
   "cell_type": "code",
   "execution_count": 109,
   "metadata": {},
   "outputs": [
    {
     "data": {
      "text/plain": [
       "[2]"
      ]
     },
     "execution_count": 109,
     "metadata": {},
     "output_type": "execute_result"
    }
   ],
   "source": [
    "[len(re.findall(r\"\\bday\\b\", line)) for line in lines if re.findall(r\"\\bday\\b\", line)]"
   ]
  },
  {
   "cell_type": "code",
   "execution_count": 111,
   "metadata": {},
   "outputs": [
    {
     "data": {
      "text/plain": [
       "[0, 2, 0, 0, 0, 0, 0, 0, 0, 0]"
      ]
     },
     "execution_count": 111,
     "metadata": {},
     "output_type": "execute_result"
    }
   ],
   "source": [
    "[len(re.findall(r\"\\bday\\b\", line)) for line in lines]"
   ]
  },
  {
   "cell_type": "markdown",
   "metadata": {},
   "source": [
    "--> goes in every line and returns the length of this find operation in that line, i.e. it found the \"day\" twice or it didn't find it"
   ]
  },
  {
   "cell_type": "code",
   "execution_count": 96,
   "metadata": {},
   "outputs": [
    {
     "data": {
      "text/plain": [
       "[37, 42, 38, 41, 47, 43, 46, 39, 41, 19]"
      ]
     },
     "execution_count": 96,
     "metadata": {},
     "output_type": "execute_result"
    }
   ],
   "source": [
    "all_length = [len(this_line) for this_line in lines]\n",
    "all_length"
   ]
  },
  {
   "cell_type": "code",
   "execution_count": 97,
   "metadata": {},
   "outputs": [
    {
     "data": {
      "text/plain": [
       "['Tomorrow, and tomorrow, and tomorrow,',\n",
       " 'Creeps in this petty pace from day to day,',\n",
       " 'To the last syllable of recorded time;',\n",
       " 'And all our yesterdays have lighted fools',\n",
       " \"Life's but a walking shadow, a poor player,\",\n",
       " 'That struts and frets his hour upon the stage,',\n",
       " 'And then is heard no more. It is a tale',\n",
       " 'Told by an idiot, full of sound and fury,',\n",
       " 'Signifying nothing.']"
      ]
     },
     "execution_count": 97,
     "metadata": {},
     "output_type": "execute_result"
    }
   ],
   "source": [
    "[line for line in lines if re.search(\"ca\", line) is None]"
   ]
  },
  {
   "cell_type": "code",
   "execution_count": 98,
   "metadata": {},
   "outputs": [
    {
     "data": {
      "text/plain": [
       "['Tomorrow, and tomorrow, and tomorrow,',\n",
       " 'Creeps in this petty pace from day to day,',\n",
       " \"Life's but a walking shadow, a poor player,\",\n",
       " 'That struts and frets his hour upon the stage,',\n",
       " 'Told by an idiot, full of sound and fury,']"
      ]
     },
     "execution_count": 98,
     "metadata": {},
     "output_type": "execute_result"
    }
   ],
   "source": [
    "[line for line in lines if re.search(\",$\", line)]"
   ]
  },
  {
   "cell_type": "markdown",
   "metadata": {},
   "source": [
    "--> returns every line that ends with a comma"
   ]
  },
  {
   "cell_type": "code",
   "execution_count": 99,
   "metadata": {},
   "outputs": [
    {
     "data": {
      "text/plain": [
       "['Tomorrow, and tomorrow, and tomorrow,',\n",
       " 'Creeps in this petty pace from day to day,',\n",
       " 'The way to dusty death. Out, out, brief candle!',\n",
       " \"Life's but a walking shadow, a poor player,\",\n",
       " 'That struts and frets his hour upon the stage,',\n",
       " 'Told by an idiot, full of sound and fury,',\n",
       " 'Signifying nothing.']"
      ]
     },
     "execution_count": 99,
     "metadata": {},
     "output_type": "execute_result"
    }
   ],
   "source": [
    "[line for line in lines if re.search(\"[.,!]$\", line)]"
   ]
  },
  {
   "cell_type": "markdown",
   "metadata": {},
   "source": [
    "--> returns every line that ends with a comma, period, excl.mark"
   ]
  },
  {
   "cell_type": "code",
   "execution_count": 100,
   "metadata": {},
   "outputs": [
    {
     "data": {
      "text/plain": [
       "['Tomorrow, and tomorrow, and tomorrow,',\n",
       " 'Creeps in this petty pace from day to day,',\n",
       " 'The way to dusty death. Out, out, brief candle!',\n",
       " \"Life's but a walking shadow, a poor player,\",\n",
       " 'That struts and frets his hour upon the stage,',\n",
       " 'Told by an idiot, full of sound and fury,',\n",
       " 'Signifying nothing.']"
      ]
     },
     "execution_count": 100,
     "metadata": {},
     "output_type": "execute_result"
    }
   ],
   "source": [
    "[line for line in lines if re.search(\"[?.!,]$\", line)]"
   ]
  },
  {
   "cell_type": "markdown",
   "metadata": {},
   "source": [
    "** It is different to search in a whole string and search in a list **-->"
   ]
  },
  {
   "cell_type": "code",
   "execution_count": 102,
   "metadata": {},
   "outputs": [
    {
     "data": {
      "text/plain": [
       "[' in ', 'his ', 'king', 'his ', ' is ', ' It ', 'ying', 'hing']"
      ]
     },
     "execution_count": 102,
     "metadata": {},
     "output_type": "execute_result"
    }
   ],
   "source": [
    "all_ll = re.findall(r\".[iI][stn].\", speech)\n",
    "all_ll"
   ]
  },
  {
   "cell_type": "markdown",
   "metadata": {},
   "source": [
    "--> finding anything other than the begining of the line, a space, an upper or lower case i, "
   ]
  },
  {
   "cell_type": "code",
   "execution_count": null,
   "metadata": {
    "collapsed": true
   },
   "outputs": [],
   "source": []
  },
  {
   "cell_type": "code",
   "execution_count": null,
   "metadata": {
    "collapsed": true
   },
   "outputs": [],
   "source": []
  },
  {
   "cell_type": "code",
   "execution_count": null,
   "metadata": {
    "collapsed": true
   },
   "outputs": [],
   "source": []
  },
  {
   "cell_type": "code",
   "execution_count": null,
   "metadata": {
    "collapsed": true
   },
   "outputs": [],
   "source": []
  },
  {
   "cell_type": "code",
   "execution_count": null,
   "metadata": {
    "collapsed": true
   },
   "outputs": [],
   "source": []
  },
  {
   "cell_type": "code",
   "execution_count": 44,
   "metadata": {},
   "outputs": [
    {
     "data": {
      "text/plain": [
       "['this', 'the l', 'th. ', 'the s', 'then ', 'thin']"
      ]
     },
     "execution_count": 44,
     "metadata": {},
     "output_type": "execute_result"
    }
   ],
   "source": [
    "th_plus = re.findall(\"the*..\",speech)\n",
    "th_plus"
   ]
  },
  {
   "cell_type": "markdown",
   "metadata": {},
   "source": [
    "@ * match any or none, * = skip"
   ]
  },
  {
   "cell_type": "code",
   "execution_count": 45,
   "metadata": {},
   "outputs": [
    {
     "data": {
      "text/plain": [
       "['morr', 'morr', 'morr', 'm d', 'me;', 'more']"
      ]
     },
     "execution_count": 45,
     "metadata": {},
     "output_type": "execute_result"
    }
   ],
   "source": [
    "th_plus = re.findall(\"mo*..\",speech)\n",
    "th_plus"
   ]
  },
  {
   "cell_type": "code",
   "execution_count": 46,
   "metadata": {},
   "outputs": [
    {
     "data": {
      "text/plain": [
       "['e las',\n",
       " 'syllab',\n",
       " ' all o',\n",
       " 'e lig',\n",
       " 'ndle!',\n",
       " 'walki',\n",
       " ' play',\n",
       " 'Told ',\n",
       " 'full o']"
      ]
     },
     "execution_count": 46,
     "metadata": {},
     "output_type": "execute_result"
    }
   ],
   "source": [
    "l_plus = re.findall(\"..l+..\",speech)\n",
    "l_plus"
   ]
  },
  {
   "cell_type": "markdown",
   "metadata": {},
   "source": [
    "@ this has to find an l, double l, "
   ]
  },
  {
   "cell_type": "code",
   "execution_count": 47,
   "metadata": {},
   "outputs": [
    {
     "data": {
      "text/plain": [
       "['To',\n",
       " 'mor',\n",
       " 'ro',\n",
       " 'to',\n",
       " 'mor',\n",
       " 'ro',\n",
       " 'to',\n",
       " 'mor',\n",
       " 'ro',\n",
       " 'ro',\n",
       " 'to',\n",
       " 'To',\n",
       " ' o',\n",
       " 'cor',\n",
       " ' o',\n",
       " 'fo',\n",
       " 'to',\n",
       " ' o',\n",
       " 'do',\n",
       " 'po',\n",
       " 'ho',\n",
       " 'po',\n",
       " 'no',\n",
       " 'mor',\n",
       " 'To',\n",
       " 'io',\n",
       " ' o',\n",
       " 'so',\n",
       " 'no']"
      ]
     },
     "execution_count": 47,
     "metadata": {},
     "output_type": "execute_result"
    }
   ],
   "source": [
    "l_plus = re.findall(\".or?\",speech)\n",
    "l_plus"
   ]
  },
  {
   "cell_type": "markdown",
   "metadata": {},
   "source": [
    "@ the ? is 0 or none"
   ]
  },
  {
   "cell_type": "code",
   "execution_count": 48,
   "metadata": {},
   "outputs": [
    {
     "data": {
      "text/plain": [
       "[' fools', ' poor ']"
      ]
     },
     "execution_count": 48,
     "metadata": {},
     "output_type": "execute_result"
    }
   ],
   "source": [
    "o_2 = re.findall(\"..o{2}..\",speech)\n",
    "o_2"
   ]
  },
  {
   "cell_type": "markdown",
   "metadata": {},
   "source": [
    "@ specify exactly what we are looking for"
   ]
  },
  {
   "cell_type": "markdown",
   "metadata": {},
   "source": [
    "## Sets and Groups\n",
    "**Sets**, which include `[]` in shortcuts like `\\w`, allow you to search for certain types of characters. **Groups**, which are demarcated by `()` allow you to specify important sub-patterns that you can access individually.\n",
    "\n",
    "| enclosures | what it does |\n",
    "|--------|---------|\n",
    "| `[]` | A defined set of characters to search for |\n",
    "| `()` | A group of characters to search for, can be accessed individually in the results. |\n",
    "\n",
    "\n",
    "| Examples of sets | what it does |\n",
    "|--------|---------|\n",
    "| `[aeiou]` | Find any vowel |\n",
    "| `[Tt]` | Find a lowercase or uppercase t |\n",
    "| `[0-9]` | Find any number, there is a shortcut for this |\n",
    "| `[^0-9]` | Find anything that's not number, there is a shortcut for this |\n",
    "| `[13579]` | Find any odd numer |\n",
    "| `[A-Za-z]` | Find any letter, there is a shortcut for this too |\n",
    "| `[+.*]` | Find those actual characters, special characters are canceled in sets (not including shortcuts: see below) |\n",
    "\n",
    "\n",
    "| Shortcut | what it does |\n",
    "|--------|---------|\n",
    "| `\\b` | Word boundary: spaces, commas, end of line, anything that comes at the beginning or end of a word |\n",
    "| `\\B` | Not a word-boundary |\n",
    "| `\\d` | numbers [0-9] |\n",
    "| `\\D` | not numbers |\n",
    "| `\\s` | whitespace characters: space, tab... |\n",
    "| `\\S` | not space |\n",
    "| `\\w` | letters |\n",
    "| `\\W` | not letters |\n"
   ]
  },
  {
   "cell_type": "code",
   "execution_count": 49,
   "metadata": {},
   "outputs": [
    {
     "data": {
      "text/plain": [
       "['in', 'is', 'is']"
      ]
     },
     "execution_count": 49,
     "metadata": {},
     "output_type": "execute_result"
    }
   ],
   "source": [
    "all_ll = re.findall(r\"\\bi[sn]\\b\",speech)\n",
    "#it's a set and a word boundary. \n",
    "all_ll"
   ]
  },
  {
   "cell_type": "code",
   "execution_count": 50,
   "metadata": {},
   "outputs": [
    {
     "data": {
      "text/plain": [
       "[' in ', 'his ', 'king', 'his ', ' is ', ' It ', 'ying', 'hing']"
      ]
     },
     "execution_count": 50,
     "metadata": {},
     "output_type": "execute_result"
    }
   ],
   "source": [
    "all_ll = re.findall(r\".[iI][stn].\",speech)\n",
    "#it's a set and a word boundary. \n",
    "all_ll"
   ]
  },
  {
   "cell_type": "markdown",
   "metadata": {},
   "source": [
    "---> [stn] = followed by s,t,n"
   ]
  },
  {
   "cell_type": "code",
   "execution_count": 51,
   "metadata": {},
   "outputs": [
    {
     "data": {
      "text/plain": [
       "['Creeps', 'brief', 'candle', 'but', 'by']"
      ]
     },
     "execution_count": 51,
     "metadata": {},
     "output_type": "execute_result"
    }
   ],
   "source": [
    "words = re.findall(r\"\\b[CcBb]\\w+\",speech)\n",
    "words"
   ]
  },
  {
   "cell_type": "code",
   "execution_count": 52,
   "metadata": {},
   "outputs": [
    {
     "data": {
      "text/plain": [
       "['Tomorrow',\n",
       " 'tomorrow',\n",
       " 'tomorrow',\n",
       " 'this',\n",
       " 'tty',\n",
       " 'to',\n",
       " 'To',\n",
       " 'the',\n",
       " 'time',\n",
       " 'terdays',\n",
       " 'ted',\n",
       " 'The',\n",
       " 'to',\n",
       " 'ty',\n",
       " 'th',\n",
       " 'That',\n",
       " 'truts',\n",
       " 'ts',\n",
       " 'the',\n",
       " 'tage',\n",
       " 'then',\n",
       " 'tale',\n",
       " 'Told',\n",
       " 'thing']"
      ]
     },
     "execution_count": 52,
     "metadata": {},
     "output_type": "execute_result"
    }
   ],
   "source": [
    "words = re.findall(r\"[tT]\\w+\",speech)\n",
    "#words = re.findall(r\"([tT]\\w+)\",line)\n",
    "words"
   ]
  },
  {
   "cell_type": "markdown",
   "metadata": {},
   "source": [
    "Looking for phrases"
   ]
  },
  {
   "cell_type": "code",
   "execution_count": 53,
   "metadata": {},
   "outputs": [
    {
     "data": {
      "text/plain": [
       "['in this petty',\n",
       " 'to day,\\nTo',\n",
       " 'To the last',\n",
       " 'of recorded time',\n",
       " 'to dusty death',\n",
       " 'is heard no',\n",
       " 'no more. It',\n",
       " 'It is a',\n",
       " 'is a tale',\n",
       " 'by an idiot',\n",
       " 'an idiot, full',\n",
       " 'of sound and']"
      ]
     },
     "execution_count": 53,
     "metadata": {},
     "output_type": "execute_result"
    }
   ],
   "source": [
    "phrases = re.findall(r\"(?=(\\b\\w{2}\\W+\\w+\\W+\\w+))\",speech)\n",
    "#phrases = re.findall(r\"(\\b\\w{2}) (\\w+) (\\w+)\",speech)\n",
    "phrases"
   ]
  },
  {
   "cell_type": "markdown",
   "metadata": {},
   "source": [
    "Searching a longer poem"
   ]
  },
  {
   "cell_type": "code",
   "execution_count": 54,
   "metadata": {},
   "outputs": [
    {
     "ename": "FileNotFoundError",
     "evalue": "[Errno 2] No such file or directory: '/Users/Jon/Documents/columbia_syllabus/wasteland.txt'",
     "output_type": "error",
     "traceback": [
      "\u001b[0;31m---------------------------------------------------------------------------\u001b[0m",
      "\u001b[0;31mFileNotFoundError\u001b[0m                         Traceback (most recent call last)",
      "\u001b[0;32m<ipython-input-54-4d1346591cf2>\u001b[0m in \u001b[0;36m<module>\u001b[0;34m()\u001b[0m\n\u001b[0;32m----> 1\u001b[0;31m \u001b[0mf\u001b[0m \u001b[0;34m=\u001b[0m \u001b[0mopen\u001b[0m\u001b[0;34m(\u001b[0m\u001b[0;34m'/Users/Jon/Documents/columbia_syllabus/wasteland.txt'\u001b[0m\u001b[0;34m,\u001b[0m \u001b[0;34m'r'\u001b[0m\u001b[0;34m)\u001b[0m\u001b[0;34m\u001b[0m\u001b[0m\n\u001b[0m\u001b[1;32m      2\u001b[0m \u001b[0mwasteland\u001b[0m \u001b[0;34m=\u001b[0m \u001b[0mf\u001b[0m\u001b[0;34m.\u001b[0m\u001b[0mread\u001b[0m\u001b[0;34m(\u001b[0m\u001b[0;34m)\u001b[0m\u001b[0;34m\u001b[0m\u001b[0m\n",
      "\u001b[0;31mFileNotFoundError\u001b[0m: [Errno 2] No such file or directory: '/Users/Jon/Documents/columbia_syllabus/wasteland.txt'"
     ]
    }
   ],
   "source": [
    "f = open('/Users/Jon/Documents/columbia_syllabus/wasteland.txt', 'r')\n",
    "wasteland = f.read()"
   ]
  },
  {
   "cell_type": "code",
   "execution_count": null,
   "metadata": {
    "collapsed": true
   },
   "outputs": [],
   "source": [
    "poemlines = wasteland.split('\\n')"
   ]
  },
  {
   "cell_type": "code",
   "execution_count": null,
   "metadata": {
    "collapsed": true
   },
   "outputs": [],
   "source": [
    "\n",
    "[line for line in poemlines if re.search(\"win.\", line)]\n"
   ]
  },
  {
   "cell_type": "markdown",
   "metadata": {},
   "source": [
    "Searching whole play"
   ]
  },
  {
   "cell_type": "code",
   "execution_count": null,
   "metadata": {
    "collapsed": true
   },
   "outputs": [],
   "source": [
    "f = open('/Users/Jon/Documents/columbia_syllabus/hamlet.txt', 'r')\n",
    "play = f.read()\n"
   ]
  },
  {
   "cell_type": "code",
   "execution_count": null,
   "metadata": {
    "collapsed": true
   },
   "outputs": [],
   "source": [
    "type(play)"
   ]
  },
  {
   "cell_type": "code",
   "execution_count": null,
   "metadata": {
    "collapsed": true
   },
   "outputs": [],
   "source": [
    "play[:500]"
   ]
  },
  {
   "cell_type": "code",
   "execution_count": null,
   "metadata": {
    "collapsed": true
   },
   "outputs": [],
   "source": [
    "all_chars = re.findall(r\"[\\n]([A-Z]+)[\\n]\",play)\n",
    "all_chars"
   ]
  },
  {
   "cell_type": "code",
   "execution_count": null,
   "metadata": {
    "collapsed": true
   },
   "outputs": [],
   "source": []
  },
  {
   "cell_type": "code",
   "execution_count": null,
   "metadata": {
    "collapsed": true
   },
   "outputs": [],
   "source": []
  }
 ],
 "metadata": {
  "kernelspec": {
   "display_name": "Python 3",
   "language": "python",
   "name": "python3"
  },
  "language_info": {
   "codemirror_mode": {
    "name": "ipython",
    "version": 3
   },
   "file_extension": ".py",
   "mimetype": "text/x-python",
   "name": "python",
   "nbconvert_exporter": "python",
   "pygments_lexer": "ipython3",
   "version": "3.6.1"
  }
 },
 "nbformat": 4,
 "nbformat_minor": 2
}
