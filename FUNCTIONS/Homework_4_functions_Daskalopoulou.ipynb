{
 "cells": [
  {
   "cell_type": "markdown",
   "metadata": {},
   "source": [
    "## homework 4: part two: investigating lists and dictionaries\n",
    "In this assignment I will ask you to pick five relatively short texts (poems, paragraphs, short essays, song lyrics, whatever interests you). The main thing is to make sure that each text is around 10 - 20 lines or sentences long. Below, I have selected five poems by Wallace Stevens. In each cell I have made a variable that contains each poem, and then I pass that poem through a function called `text_to_dict` that makes a dictionary for each poem. The dictionary contains the title of the poem, the full text as one string, and a list that contains each line of the poem. The function will also make lists of sentences instead of lines if you want to investigate a prose text (sentence by sentence) instead of a poem (line by line).\n",
    "\n",
    "There are two parts of this assignment. \n",
    "\n",
    "**Part 1**, which should be easy, is to replace the poems with texts of your own choice--and choose to split them by lines or sentences. \n",
    "\n",
    "**Part 2** is to write functions that and investigate your texts. If you want to focus on the functions first, you can go straight to Part 2 and use the pomes I have chosen. You can then go back and enter your own texts--your functions should work no matter what text you've chosen.\n"
   ]
  },
  {
   "cell_type": "code",
   "execution_count": 1,
   "metadata": {
    "collapsed": true
   },
   "outputs": [],
   "source": [
    "#Run this cell to Import regular expressions\n",
    "#And to initialize the all texts list that will contain all of your dictionaries of text\n",
    "import re\n",
    "all_texts = []"
   ]
  },
  {
   "cell_type": "markdown",
   "metadata": {},
   "source": [
    "** understanding the text_to_dict function**\n",
    "\n",
    "You don't have to completely understand this function to use it, but you do need to understand its parameters. It takes three parameters:\n",
    "* `title` is a string you need to write inside function's parameters\n",
    "* `text` is the variable that holds the entire text\n",
    "* `poem` True/False parameter --if it is true it will split your text by line (`\\n`) \n",
    " \tIf it is false it will split your text by sentence ('[.?!])\n",
    "\n",
    "If you look at the function you will see that it builds a dictionary with the following fields:\n",
    "* `title` is the title of the text\n",
    "* `text` is the full text as a string\n",
    "* `lines` is a list of lines or sentences\n",
    "\n",
    "It returns a dictionary with those fields."
   ]
  },
  {
   "cell_type": "code",
   "execution_count": 2,
   "metadata": {
    "collapsed": true
   },
   "outputs": [],
   "source": [
    "def text_to_dict(title,text,poem):\n",
    "    dict_of_this_text = {}\n",
    "    dict_of_this_text['title'] = title\n",
    "    dict_of_this_text['alltext'] = text\n",
    "    if poem:\n",
    "        text_to_list = text.strip().split('\\n')\n",
    "    else:\n",
    "        text_to_list = re.split(r\"[.?!]\",text)\n",
    "    dict_of_this_text['lines'] = text_to_list\n",
    "    return dict_of_this_text"
   ]
  },
  {
   "cell_type": "markdown",
   "metadata": {},
   "source": [
    "## Part One\n",
    "\n",
    "The next five cells are exactly the same. They define five different texts, and then they pass each text through the `text_to_dict` function. And then they add the resulting dictionary to the all_texts list. \n",
    "\n",
    "In the five cells below enter your five selected texts.\n",
    "\n",
    "**You should do no coding at any point** until the very last cell before part two."
   ]
  },
  {
   "cell_type": "code",
   "execution_count": 3,
   "metadata": {
    "collapsed": true
   },
   "outputs": [],
   "source": [
    "#To change the text, just put a new text between the quotation mark\n",
    "#As One Listens To The Rain - Poem by Octavio Paz\n",
    "#https://www.poemhunter.com/poem/as-one-listens-to-the-rain/\n",
    "text0 = '''\n",
    "Listen to me as one listens to the rain,\n",
    "not attentive, not distracted,\n",
    "light footsteps, thin drizzle,\n",
    "water that is air, air that is time,\n",
    "the day is still leaving,\n",
    "the night has yet to arrive,\n",
    "figurations of mist\n",
    "at the turn of the corner,\n",
    "figurations of time\n",
    "at the bend in this pause,\n",
    "listen to me as one listens to the rain,\n",
    "without listening, hear what I say\n",
    "with eyes open inward, asleep\n",
    "with all five senses awake,\n",
    "it's raining, light footsteps, a murmur of syllables,\n",
    "air and water, words with no weight:\n",
    "what we are and are,\n",
    "the days and years, this moment,\n",
    "weightless time and heavy sorrow,\n",
    "'''\n",
    "#Remember: you need to type the title into the first parameter\n",
    "#If you want to split by line choose True for the third parameter\n",
    "#If you want to split by sentence, choose False\n",
    "transform_it = text_to_dict(\"As One Listens To The Rain\",text0,True)\n",
    "all_texts.append(transform_it)"
   ]
  },
  {
   "cell_type": "code",
   "execution_count": 4,
   "metadata": {
    "collapsed": true
   },
   "outputs": [],
   "source": [
    "#An Old Man On The River Bank - Poem by Giorgos Seferis\n",
    "#https://www.poemhunter.com/poem/an-old-man-on-the-river-bank/\n",
    "text1 = '''\n",
    "And yet we should consider how we go forward.\n",
    "To feel is not enough, nor to think, nor to move\n",
    "nor to put your body in danger in front of an old loophole\n",
    "when scalding oil and molten lead furrow the walls.\n",
    "\n",
    "And yet we should consider towards what we go forward,\n",
    "not as our pain would have it, and our hungry children\n",
    "and the chasm between us and the companions calling from the opposite shore;\n",
    "nor as the bluish light whispers it in an improvised hospital,\n",
    "the pharmaceutic glimmer on the pillow of the youth operated on at noon;\n",
    "but it should be in some other way, I would say like\n",
    "the long river that emerges from the great lakes enclosed deep in Africa,\n",
    "that was once a god and then became a road and a benefactor, a judge and a delta;\n",
    "that is never the same, as the ancient wise men taught,\n",
    "and yet always remains the same body, the same bed, and the same Sign,\n",
    "the same orientation.\n",
    "'''\n",
    "transform_it = text_to_dict(\"An Old Man On The River Bank\",text1,True)\n",
    "all_texts.append(transform_it)"
   ]
  },
  {
   "cell_type": "code",
   "execution_count": 5,
   "metadata": {
    "collapsed": true
   },
   "outputs": [],
   "source": [
    "#Study Of Loneliness - Poem by Czeslaw Milosz\n",
    "#https://www.poemhunter.com/poem/study-of-loneliness/\n",
    "text2 = '''\n",
    "A guardian of long-distance conduits in the desert? \n",
    "A one-man crew of a fortress in the sand? \n",
    "Whoever he was. At dawn he saw furrowed mountains \n",
    "The color of ashes, above the melting darkness, \n",
    "Saturated with violet, breaking into fluid rouge, \n",
    "Till they stood, immense, in the orange light. \n",
    "Day after day. And, before he noticed, year after year. \n",
    "For whom, he thought, that splendor? For me alone? \n",
    "Yet it will be here long after I perish. \n",
    "What is it in the eye of a lizard? Or when seen by a migrant bird? \n",
    "If I am all mankind, are they themselves without me? \n",
    "And he knew there was no use crying out, for none of them would save him. \n",
    "'''\n",
    "transform_it = text_to_dict(\"Study Of Loneliness\",text2,True)\n",
    "all_texts.append(transform_it)"
   ]
  },
  {
   "cell_type": "code",
   "execution_count": 6,
   "metadata": {
    "collapsed": true
   },
   "outputs": [],
   "source": [
    "#I Am Not Alone - Poem by Gabriela Mistral\n",
    "#https://www.poemhunter.com/poem/i-am-not-alone-6/\n",
    "text3 = '''\n",
    "The night, it is deserted \n",
    "from the mountains to the sea. \n",
    "But I, the one who rocks you, \n",
    "I am not alone! \n",
    "\n",
    "The sky, it is deserted \n",
    "for the moon falls to the sea. \n",
    "But I, the one who holds you,\n",
    "I am not alone ! \n",
    "\n",
    "The world, it is deserted. \n",
    "All flesh is sad you see. \n",
    "But I, the one who hugs you, \n",
    "I am not alone!\n",
    "'''\n",
    "transform_it = text_to_dict(\"I Am Not Alone\",text3,True)\n",
    "all_texts.append(transform_it)"
   ]
  },
  {
   "cell_type": "code",
   "execution_count": 7,
   "metadata": {
    "collapsed": true
   },
   "outputs": [],
   "source": [
    "#Lost In The Forest - Poem by Pablo Neruda\n",
    "#https://www.poemhunter.com/poem/lost-in-the-forest/#content\n",
    "text4 = '''\n",
    "Lost in the forest, I broke off a dark twig\n",
    "and lifted its whisper to my thirsty lips:\n",
    "maybe it was the voice of the rain crying,\n",
    "a cracked bell, or a torn heart.\n",
    "\n",
    "Something from far off it seemed\n",
    "deep and secret to me, hidden by the earth,\n",
    "a shout muffled by huge autumns,\n",
    "by the moist half-open darkness of the leaves.\n",
    "\n",
    "Wakening from the dreaming forest there, the hazel-sprig\n",
    "sang under my tongue, its drifting fragrance\n",
    "climbed up through my conscious mind\n",
    "\n",
    "as if suddenly the roots I had left behind\n",
    "cried out to me, the land I had lost with my childhood---\n",
    "and I stopped, wounded by the wandering scent. \n",
    "'''\n",
    "transform_it = text_to_dict(\"Lost In The Forest\",text4,True)\n",
    "all_texts.append(transform_it)"
   ]
  },
  {
   "cell_type": "markdown",
   "metadata": {},
   "source": [
    "Run the two cells below to confirm that first, you only have five texts in the all_texts list, and next, look at the all_texts list to see the dictionary inside it. "
   ]
  },
  {
   "cell_type": "code",
   "execution_count": 8,
   "metadata": {},
   "outputs": [
    {
     "data": {
      "text/plain": [
       "5"
      ]
     },
     "execution_count": 8,
     "metadata": {},
     "output_type": "execute_result"
    }
   ],
   "source": [
    "len(all_texts)"
   ]
  },
  {
   "cell_type": "code",
   "execution_count": 9,
   "metadata": {},
   "outputs": [
    {
     "data": {
      "text/plain": [
       "[{'alltext': \"\\nListen to me as one listens to the rain,\\nnot attentive, not distracted,\\nlight footsteps, thin drizzle,\\nwater that is air, air that is time,\\nthe day is still leaving,\\nthe night has yet to arrive,\\nfigurations of mist\\nat the turn of the corner,\\nfigurations of time\\nat the bend in this pause,\\nlisten to me as one listens to the rain,\\nwithout listening, hear what I say\\nwith eyes open inward, asleep\\nwith all five senses awake,\\nit's raining, light footsteps, a murmur of syllables,\\nair and water, words with no weight:\\nwhat we are and are,\\nthe days and years, this moment,\\nweightless time and heavy sorrow,\\n\",\n",
       "  'lines': ['Listen to me as one listens to the rain,',\n",
       "   'not attentive, not distracted,',\n",
       "   'light footsteps, thin drizzle,',\n",
       "   'water that is air, air that is time,',\n",
       "   'the day is still leaving,',\n",
       "   'the night has yet to arrive,',\n",
       "   'figurations of mist',\n",
       "   'at the turn of the corner,',\n",
       "   'figurations of time',\n",
       "   'at the bend in this pause,',\n",
       "   'listen to me as one listens to the rain,',\n",
       "   'without listening, hear what I say',\n",
       "   'with eyes open inward, asleep',\n",
       "   'with all five senses awake,',\n",
       "   \"it's raining, light footsteps, a murmur of syllables,\",\n",
       "   'air and water, words with no weight:',\n",
       "   'what we are and are,',\n",
       "   'the days and years, this moment,',\n",
       "   'weightless time and heavy sorrow,'],\n",
       "  'title': 'As One Listens To The Rain'},\n",
       " {'alltext': '\\nAnd yet we should consider how we go forward.\\nTo feel is not enough, nor to think, nor to move\\nnor to put your body in danger in front of an old loophole\\nwhen scalding oil and molten lead furrow the walls.\\n\\nAnd yet we should consider towards what we go forward,\\nnot as our pain would have it, and our hungry children\\nand the chasm between us and the companions calling from the opposite shore;\\nnor as the bluish light whispers it in an improvised hospital,\\nthe pharmaceutic glimmer on the pillow of the youth operated on at noon;\\nbut it should be in some other way, I would say like\\nthe long river that emerges from the great lakes enclosed deep in Africa,\\nthat was once a god and then became a road and a benefactor, a judge and a delta;\\nthat is never the same, as the ancient wise men taught,\\nand yet always remains the same body, the same bed, and the same Sign,\\nthe same orientation.\\n',\n",
       "  'lines': ['And yet we should consider how we go forward.',\n",
       "   'To feel is not enough, nor to think, nor to move',\n",
       "   'nor to put your body in danger in front of an old loophole',\n",
       "   'when scalding oil and molten lead furrow the walls.',\n",
       "   '',\n",
       "   'And yet we should consider towards what we go forward,',\n",
       "   'not as our pain would have it, and our hungry children',\n",
       "   'and the chasm between us and the companions calling from the opposite shore;',\n",
       "   'nor as the bluish light whispers it in an improvised hospital,',\n",
       "   'the pharmaceutic glimmer on the pillow of the youth operated on at noon;',\n",
       "   'but it should be in some other way, I would say like',\n",
       "   'the long river that emerges from the great lakes enclosed deep in Africa,',\n",
       "   'that was once a god and then became a road and a benefactor, a judge and a delta;',\n",
       "   'that is never the same, as the ancient wise men taught,',\n",
       "   'and yet always remains the same body, the same bed, and the same Sign,',\n",
       "   'the same orientation.'],\n",
       "  'title': 'An Old Man On The River Bank'},\n",
       " {'alltext': '\\nA guardian of long-distance conduits in the desert? \\nA one-man crew of a fortress in the sand? \\nWhoever he was. At dawn he saw furrowed mountains \\nThe color of ashes, above the melting darkness, \\nSaturated with violet, breaking into fluid rouge, \\nTill they stood, immense, in the orange light. \\nDay after day. And, before he noticed, year after year. \\nFor whom, he thought, that splendor? For me alone? \\nYet it will be here long after I perish. \\nWhat is it in the eye of a lizard? Or when seen by a migrant bird? \\nIf I am all mankind, are they themselves without me? \\nAnd he knew there was no use crying out, for none of them would save him. \\n',\n",
       "  'lines': ['A guardian of long-distance conduits in the desert? ',\n",
       "   'A one-man crew of a fortress in the sand? ',\n",
       "   'Whoever he was. At dawn he saw furrowed mountains ',\n",
       "   'The color of ashes, above the melting darkness, ',\n",
       "   'Saturated with violet, breaking into fluid rouge, ',\n",
       "   'Till they stood, immense, in the orange light. ',\n",
       "   'Day after day. And, before he noticed, year after year. ',\n",
       "   'For whom, he thought, that splendor? For me alone? ',\n",
       "   'Yet it will be here long after I perish. ',\n",
       "   'What is it in the eye of a lizard? Or when seen by a migrant bird? ',\n",
       "   'If I am all mankind, are they themselves without me? ',\n",
       "   'And he knew there was no use crying out, for none of them would save him.'],\n",
       "  'title': 'Study Of Loneliness'},\n",
       " {'alltext': '\\nThe night, it is deserted \\nfrom the mountains to the sea. \\nBut I, the one who rocks you, \\nI am not alone! \\n\\nThe sky, it is deserted \\nfor the moon falls to the sea. \\nBut I, the one who holds you,\\nI am not alone ! \\n\\nThe world, it is deserted. \\nAll flesh is sad you see. \\nBut I, the one who hugs you, \\nI am not alone!\\n',\n",
       "  'lines': ['The night, it is deserted ',\n",
       "   'from the mountains to the sea. ',\n",
       "   'But I, the one who rocks you, ',\n",
       "   'I am not alone! ',\n",
       "   '',\n",
       "   'The sky, it is deserted ',\n",
       "   'for the moon falls to the sea. ',\n",
       "   'But I, the one who holds you,',\n",
       "   'I am not alone ! ',\n",
       "   '',\n",
       "   'The world, it is deserted. ',\n",
       "   'All flesh is sad you see. ',\n",
       "   'But I, the one who hugs you, ',\n",
       "   'I am not alone!'],\n",
       "  'title': 'I Am Not Alone'},\n",
       " {'alltext': '\\nLost in the forest, I broke off a dark twig\\nand lifted its whisper to my thirsty lips:\\nmaybe it was the voice of the rain crying,\\na cracked bell, or a torn heart.\\n\\nSomething from far off it seemed\\ndeep and secret to me, hidden by the earth,\\na shout muffled by huge autumns,\\nby the moist half-open darkness of the leaves.\\n\\nWakening from the dreaming forest there, the hazel-sprig\\nsang under my tongue, its drifting fragrance\\nclimbed up through my conscious mind\\n\\nas if suddenly the roots I had left behind\\ncried out to me, the land I had lost with my childhood---\\nand I stopped, wounded by the wandering scent. \\n',\n",
       "  'lines': ['Lost in the forest, I broke off a dark twig',\n",
       "   'and lifted its whisper to my thirsty lips:',\n",
       "   'maybe it was the voice of the rain crying,',\n",
       "   'a cracked bell, or a torn heart.',\n",
       "   '',\n",
       "   'Something from far off it seemed',\n",
       "   'deep and secret to me, hidden by the earth,',\n",
       "   'a shout muffled by huge autumns,',\n",
       "   'by the moist half-open darkness of the leaves.',\n",
       "   '',\n",
       "   'Wakening from the dreaming forest there, the hazel-sprig',\n",
       "   'sang under my tongue, its drifting fragrance',\n",
       "   'climbed up through my conscious mind',\n",
       "   '',\n",
       "   'as if suddenly the roots I had left behind',\n",
       "   'cried out to me, the land I had lost with my childhood---',\n",
       "   'and I stopped, wounded by the wandering scent.'],\n",
       "  'title': 'Lost In The Forest'}]"
      ]
     },
     "execution_count": 9,
     "metadata": {},
     "output_type": "execute_result"
    }
   ],
   "source": [
    "all_texts"
   ]
  },
  {
   "cell_type": "markdown",
   "metadata": {},
   "source": [
    "In the cell below, loop through all_texts and print out the title of each text. (This is the only code you need to write for Part One.)"
   ]
  },
  {
   "cell_type": "code",
   "execution_count": 10,
   "metadata": {
    "scrolled": true
   },
   "outputs": [
    {
     "name": "stdout",
     "output_type": "stream",
     "text": [
      "As One Listens To The Rain\n",
      "An Old Man On The River Bank\n",
      "Study Of Loneliness\n",
      "I Am Not Alone\n",
      "Lost In The Forest\n"
     ]
    }
   ],
   "source": [
    "for text in all_texts:\n",
    "    print(text['title'])"
   ]
  },
  {
   "cell_type": "markdown",
   "metadata": {},
   "source": [
    "## Part Two:  searching within lists and dictionaries\n",
    "In this part, we will be searching through each text and printing out a desired result. The searches, including loops and printing should all be defined in the function. The second cell should just have to function call that executes the function. I have written an example function and call for the first search. For each function that you write you should copy the original function and modify it so what does what I ask for.\n",
    "\n",
    "For the first five functions, there are no parameters passed to the functions--the calls will just execute the function. Go step-by-step and take your time."
   ]
  },
  {
   "cell_type": "code",
   "execution_count": 11,
   "metadata": {
    "collapsed": true
   },
   "outputs": [],
   "source": [
    "def get_lengths():\n",
    "    for text in all_texts:\n",
    "        print(text['title'])\n",
    "        print(len(text['alltext']))\n",
    "        print(\"------------\")"
   ]
  },
  {
   "cell_type": "code",
   "execution_count": 12,
   "metadata": {},
   "outputs": [
    {
     "name": "stdout",
     "output_type": "stream",
     "text": [
      "As One Listens To The Rain\n",
      "603\n",
      "------------\n",
      "An Old Man On The River Bank\n",
      "889\n",
      "------------\n",
      "Study Of Loneliness\n",
      "644\n",
      "------------\n",
      "I Am Not Alone\n",
      "316\n",
      "------------\n",
      "Lost In The Forest\n",
      "612\n",
      "------------\n"
     ]
    }
   ],
   "source": [
    "get_lengths()"
   ]
  },
  {
   "cell_type": "markdown",
   "metadata": {},
   "source": [
    "Question 1\n",
    "Now write a function that gets the **line count for each poem** (or sentence count for each piece of prose). This function is going to be very similar to the last one. Instead of accessing the whole text via text['alltext'] which is a string, you need to access the list of lines/sentences and get the length of that list. Everything else should be the same."
   ]
  },
  {
   "cell_type": "code",
   "execution_count": 13,
   "metadata": {
    "collapsed": true
   },
   "outputs": [],
   "source": [
    "def get_line_count():\n",
    "    for text in all_texts:\n",
    "        print(text['title'])\n",
    "        print(\"contains\", len(text['lines']), \"lines\")\n",
    "        print(\"------------\")"
   ]
  },
  {
   "cell_type": "code",
   "execution_count": 14,
   "metadata": {},
   "outputs": [
    {
     "name": "stdout",
     "output_type": "stream",
     "text": [
      "As One Listens To The Rain\n",
      "contains 19 lines\n",
      "------------\n",
      "An Old Man On The River Bank\n",
      "contains 16 lines\n",
      "------------\n",
      "Study Of Loneliness\n",
      "contains 12 lines\n",
      "------------\n",
      "I Am Not Alone\n",
      "contains 14 lines\n",
      "------------\n",
      "Lost In The Forest\n",
      "contains 17 lines\n",
      "------------\n"
     ]
    }
   ],
   "source": [
    "get_line_count()"
   ]
  },
  {
   "cell_type": "markdown",
   "metadata": {},
   "source": [
    "Question 2\n",
    "Now write a function that prints out a **random line or sentence from each text**. Again, this function will look much the same as the last ones, but instead of getting numbers you need to get actual lines. I have included the necessary import and an example of how to get random integers. Basically, for each text you need to get one element from the list of lines/ sentences with a random number between 0 and the length of the list."
   ]
  },
  {
   "cell_type": "code",
   "execution_count": 15,
   "metadata": {
    "collapsed": true
   },
   "outputs": [],
   "source": [
    "from random import randint\n",
    "\n",
    "def show_random_lines():\n",
    "    for text in all_texts:\n",
    "        random_num = randint(0, len(text['lines'])-1)\n",
    "        print(text['title'])\n",
    "        print(text['lines'][random_num])\n",
    "        print(\"------------\")\n",
    "\n",
    "#This should be inside the inner loop \n",
    "#so you get a fresh random number for each text"
   ]
  },
  {
   "cell_type": "code",
   "execution_count": 16,
   "metadata": {},
   "outputs": [
    {
     "name": "stdout",
     "output_type": "stream",
     "text": [
      "As One Listens To The Rain\n",
      "weightless time and heavy sorrow,\n",
      "------------\n",
      "An Old Man On The River Bank\n",
      "that was once a god and then became a road and a benefactor, a judge and a delta;\n",
      "------------\n",
      "Study Of Loneliness\n",
      "A one-man crew of a fortress in the sand? \n",
      "------------\n",
      "I Am Not Alone\n",
      "The world, it is deserted. \n",
      "------------\n",
      "Lost In The Forest\n",
      "sang under my tongue, its drifting fragrance\n",
      "------------\n"
     ]
    }
   ],
   "source": [
    "show_random_lines()"
   ]
  },
  {
   "cell_type": "markdown",
   "metadata": {},
   "source": [
    "Question 3\n",
    "This is a little bit different--instead of printing out something from each text, I want you to **print the entire text of the longest text**. Remember in the first function, I printed out the length of each text. Well, you need to test for the longest text as you look through and when you're done looping through print out the one that is longest.\n",
    "\n",
    "**Major hints!**: To do this you will need a counter variable (count = 0) set before the loop runs, and you will also need a text variable (longest_text = '') that you set before the loop. When you loop through you need to test if each text was longer than the last one, and if it is longer--you update count and longest_text to reflect the highest count, and the actual text. When the loop is over you then print out that longest_text string."
   ]
  },
  {
   "cell_type": "code",
   "execution_count": 17,
   "metadata": {
    "collapsed": true
   },
   "outputs": [],
   "source": [
    "def longest_text():\n",
    "    longest_text = all_texts[0]\n",
    "    for text in all_texts:\n",
    "        if len(text['alltext']) > len(longest_text['alltext']):\n",
    "            longest_text = text     \n",
    "    print(longest_text['alltext'])\n",
    "    print(\"------------\")\n",
    "            \n",
    "# count = count + len(text['lines'])\n",
    "# range[0, len(text['lines'])-1]\n",
    "# Write your function here, name it longest_text()  \n",
    "# if text == -1:\n"
   ]
  },
  {
   "cell_type": "code",
   "execution_count": 18,
   "metadata": {
    "scrolled": true
   },
   "outputs": [
    {
     "name": "stdout",
     "output_type": "stream",
     "text": [
      "\n",
      "And yet we should consider how we go forward.\n",
      "To feel is not enough, nor to think, nor to move\n",
      "nor to put your body in danger in front of an old loophole\n",
      "when scalding oil and molten lead furrow the walls.\n",
      "\n",
      "And yet we should consider towards what we go forward,\n",
      "not as our pain would have it, and our hungry children\n",
      "and the chasm between us and the companions calling from the opposite shore;\n",
      "nor as the bluish light whispers it in an improvised hospital,\n",
      "the pharmaceutic glimmer on the pillow of the youth operated on at noon;\n",
      "but it should be in some other way, I would say like\n",
      "the long river that emerges from the great lakes enclosed deep in Africa,\n",
      "that was once a god and then became a road and a benefactor, a judge and a delta;\n",
      "that is never the same, as the ancient wise men taught,\n",
      "and yet always remains the same body, the same bed, and the same Sign,\n",
      "the same orientation.\n",
      "\n",
      "------------\n"
     ]
    }
   ],
   "source": [
    "longest_text()"
   ]
  },
  {
   "cell_type": "markdown",
   "metadata": {},
   "source": [
    "Question 4\n",
    "This is kind of a combination of the first two functions--write a function that gets the **average line/sentence length for each text**."
   ]
  },
  {
   "cell_type": "code",
   "execution_count": 19,
   "metadata": {
    "collapsed": true
   },
   "outputs": [],
   "source": [
    "def average_line_length():\n",
    "    for text in all_texts:\n",
    "        print(text['title'])\n",
    "        print(len(text['alltext']) / len(text['lines']))\n",
    "        print(\"------------\")"
   ]
  },
  {
   "cell_type": "code",
   "execution_count": 20,
   "metadata": {},
   "outputs": [
    {
     "name": "stdout",
     "output_type": "stream",
     "text": [
      "As One Listens To The Rain\n",
      "31.736842105263158\n",
      "------------\n",
      "An Old Man On The River Bank\n",
      "55.5625\n",
      "------------\n",
      "Study Of Loneliness\n",
      "53.666666666666664\n",
      "------------\n",
      "I Am Not Alone\n",
      "22.571428571428573\n",
      "------------\n",
      "Lost In The Forest\n",
      "36.0\n",
      "------------\n"
     ]
    }
   ],
   "source": [
    "average_line_length()"
   ]
  },
  {
   "cell_type": "markdown",
   "metadata": {},
   "source": [
    "Question 5\n",
    "**Print the longest line/sentence in each text**. \n",
    "This is similar to question 3--but your counter, and your string variable need to be placed right before the inside loop--and then you print the lines each time the inside loop ends."
   ]
  },
  {
   "cell_type": "code",
   "execution_count": 21,
   "metadata": {
    "collapsed": true
   },
   "outputs": [],
   "source": [
    "def longest_line_in_each():\n",
    "    for text in all_texts:\n",
    "        longest_line_in_each = text['lines'][0]\n",
    "        for line in text['lines']:\n",
    "            if len(line) > len(longest_line_in_each):\n",
    "                longest_line_in_each = line  \n",
    "        print(text['title'],\":\")\n",
    "        print(longest_line_in_each)\n",
    "        print(\"------------\")    \n",
    "      "
   ]
  },
  {
   "cell_type": "code",
   "execution_count": 22,
   "metadata": {},
   "outputs": [
    {
     "name": "stdout",
     "output_type": "stream",
     "text": [
      "As One Listens To The Rain :\n",
      "it's raining, light footsteps, a murmur of syllables,\n",
      "------------\n",
      "An Old Man On The River Bank :\n",
      "that was once a god and then became a road and a benefactor, a judge and a delta;\n",
      "------------\n",
      "Study Of Loneliness :\n",
      "And he knew there was no use crying out, for none of them would save him.\n",
      "------------\n",
      "I Am Not Alone :\n",
      "from the mountains to the sea. \n",
      "------------\n",
      "Lost In The Forest :\n",
      "cried out to me, the land I had lost with my childhood---\n",
      "------------\n"
     ]
    }
   ],
   "source": [
    "longest_line_in_each()"
   ]
  },
  {
   "cell_type": "markdown",
   "metadata": {},
   "source": [
    "Question 6\n",
    "**Print the shortest single line/sentence out of all of the texts that is greater than zero**\n",
    "This is the tricky-ish: You need to place a counter and empty string outside the loop (like question 4, but the loop through all of the lines, test for the shortest one (greater than 0)."
   ]
  },
  {
   "cell_type": "code",
   "execution_count": 53,
   "metadata": {
    "collapsed": true
   },
   "outputs": [],
   "source": [
    "def shortest_of_all_lines():\n",
    "    shortest_of_all_lines = all_texts[0]['lines'][0]\n",
    "    # or shortest_of_all_lines = 1000000\n",
    "    for text in all_texts:\n",
    "        for line in text['lines']:\n",
    "            if len(line) < len(shortest_of_all_lines) and len(line)>0:\n",
    "                shortest_of_all_lines = line  \n",
    "    print(shortest_of_all_lines, \"(\", len(shortest_of_all_lines), \"is its length)\")\n"
   ]
  },
  {
   "cell_type": "code",
   "execution_count": 54,
   "metadata": {},
   "outputs": [
    {
     "name": "stdout",
     "output_type": "stream",
     "text": [
      "I am not alone! ( 15 is its length)\n"
     ]
    }
   ],
   "source": [
    "shortest_of_all_lines()"
   ]
  },
  {
   "cell_type": "markdown",
   "metadata": {},
   "source": [
    "## searching with regular expressions\n",
    "In the functions below you will search all the texts using regular expressions. The first few of these functions should not be too challenging--you just need to adjust the regular expression inside the function. At points it gets a little more complex as you have to control the looping through the lists and dictionaries."
   ]
  },
  {
   "cell_type": "code",
   "execution_count": 25,
   "metadata": {
    "collapsed": true
   },
   "outputs": [],
   "source": [
    "def get_this_word(word):\n",
    "    my_regex = r\"\\bthe\\b\"\n",
    "    for text in all_texts:\n",
    "        result = [line for line in text['lines'] if re.search(my_regex, line, re.IGNORECASE)]\n",
    "        if len(result) > 0:\n",
    "            print(text['title'])\n",
    "            print(\"...\")\n",
    "            [print(line) for line in result]\n",
    "            print(\"------------\")\n",
    "            "
   ]
  },
  {
   "cell_type": "code",
   "execution_count": 26,
   "metadata": {},
   "outputs": [
    {
     "name": "stdout",
     "output_type": "stream",
     "text": [
      "As One Listens To The Rain\n",
      "...\n",
      "Listen to me as one listens to the rain,\n",
      "the day is still leaving,\n",
      "the night has yet to arrive,\n",
      "at the turn of the corner,\n",
      "at the bend in this pause,\n",
      "listen to me as one listens to the rain,\n",
      "the days and years, this moment,\n",
      "------------\n",
      "An Old Man On The River Bank\n",
      "...\n",
      "when scalding oil and molten lead furrow the walls.\n",
      "and the chasm between us and the companions calling from the opposite shore;\n",
      "nor as the bluish light whispers it in an improvised hospital,\n",
      "the pharmaceutic glimmer on the pillow of the youth operated on at noon;\n",
      "the long river that emerges from the great lakes enclosed deep in Africa,\n",
      "that is never the same, as the ancient wise men taught,\n",
      "and yet always remains the same body, the same bed, and the same Sign,\n",
      "the same orientation.\n",
      "------------\n",
      "Study Of Loneliness\n",
      "...\n",
      "A guardian of long-distance conduits in the desert? \n",
      "A one-man crew of a fortress in the sand? \n",
      "The color of ashes, above the melting darkness, \n",
      "Till they stood, immense, in the orange light. \n",
      "What is it in the eye of a lizard? Or when seen by a migrant bird? \n",
      "------------\n",
      "I Am Not Alone\n",
      "...\n",
      "The night, it is deserted \n",
      "from the mountains to the sea. \n",
      "But I, the one who rocks you, \n",
      "The sky, it is deserted \n",
      "for the moon falls to the sea. \n",
      "But I, the one who holds you,\n",
      "The world, it is deserted. \n",
      "But I, the one who hugs you, \n",
      "------------\n",
      "Lost In The Forest\n",
      "...\n",
      "Lost in the forest, I broke off a dark twig\n",
      "maybe it was the voice of the rain crying,\n",
      "deep and secret to me, hidden by the earth,\n",
      "by the moist half-open darkness of the leaves.\n",
      "Wakening from the dreaming forest there, the hazel-sprig\n",
      "as if suddenly the roots I had left behind\n",
      "cried out to me, the land I had lost with my childhood---\n",
      "and I stopped, wounded by the wandering scent.\n",
      "------------\n"
     ]
    }
   ],
   "source": [
    "get_this_word('the')"
   ]
  },
  {
   "cell_type": "markdown",
   "metadata": {},
   "source": [
    "Question 7\n",
    "Print out the lines that start with the word entered.  You just need to adjust the regular expression here."
   ]
  },
  {
   "cell_type": "code",
   "execution_count": 27,
   "metadata": {
    "collapsed": true
   },
   "outputs": [],
   "source": [
    "def line_starts_with(word):\n",
    "    my_regex = r\"^the\"\n",
    "    for text in all_texts:\n",
    "        result = [line for line in text['lines'] if re.search(my_regex, line, re.IGNORECASE)]\n",
    "        if len(result) > 0:\n",
    "            print(text['title']+\":\")\n",
    "            print(\"...\")\n",
    "            [print(line) for line in result]\n",
    "            print(\"------------\")"
   ]
  },
  {
   "cell_type": "code",
   "execution_count": 28,
   "metadata": {},
   "outputs": [
    {
     "name": "stdout",
     "output_type": "stream",
     "text": [
      "As One Listens To The Rain:\n",
      "...\n",
      "the day is still leaving,\n",
      "the night has yet to arrive,\n",
      "the days and years, this moment,\n",
      "------------\n",
      "An Old Man On The River Bank:\n",
      "...\n",
      "the pharmaceutic glimmer on the pillow of the youth operated on at noon;\n",
      "the long river that emerges from the great lakes enclosed deep in Africa,\n",
      "the same orientation.\n",
      "------------\n",
      "Study Of Loneliness:\n",
      "...\n",
      "The color of ashes, above the melting darkness, \n",
      "------------\n",
      "I Am Not Alone:\n",
      "...\n",
      "The night, it is deserted \n",
      "The sky, it is deserted \n",
      "The world, it is deserted. \n",
      "------------\n"
     ]
    }
   ],
   "source": [
    "line_starts_with('the')"
   ]
  },
  {
   "cell_type": "markdown",
   "metadata": {},
   "source": [
    "Question 8\n",
    "Print out the lines that end with the word entered.  You just need to adjust the regular expression here."
   ]
  },
  {
   "cell_type": "code",
   "execution_count": 29,
   "metadata": {
    "collapsed": true
   },
   "outputs": [],
   "source": [
    "def line_ends_with(word):\n",
    "    my_regex = r\"you[,.:]$\"\n",
    "    for text in all_texts:\n",
    "        result = [line for line in text['lines'] if re.search(my_regex, line, re.IGNORECASE)]\n",
    "        if len(result) > 0:\n",
    "            print(text['title']+\":\")\n",
    "            print(\"...\")\n",
    "            [print(line) for line in result]\n",
    "            print(\"------------\")"
   ]
  },
  {
   "cell_type": "code",
   "execution_count": 30,
   "metadata": {},
   "outputs": [
    {
     "name": "stdout",
     "output_type": "stream",
     "text": [
      "I Am Not Alone:\n",
      "...\n",
      "But I, the one who holds you,\n",
      "------------\n"
     ]
    }
   ],
   "source": [
    "line_ends_with('you')"
   ]
  },
  {
   "cell_type": "markdown",
   "metadata": {},
   "source": [
    "Question 9\n",
    "Print out **how many times the word was found in each text.** In this case, instead of the list comprehension, you want to run a re.findall() on the string of the text (not the list) and then count the number of elements in the list of results.\n",
    "\n",
    "Hint: use the original function at the beginning of this section, and make the proper adjustments to the variable \"result\""
   ]
  },
  {
   "cell_type": "code",
   "execution_count": 31,
   "metadata": {
    "collapsed": true
   },
   "outputs": [],
   "source": [
    "def how_many_times(word):\n",
    "    my_regex = r\"\\byou\\b\"\n",
    "    for text in all_texts:\n",
    "        count_word = 0\n",
    "        result = len(re.findall(my_regex, text['alltext'], re.IGNORECASE)) \n",
    "        print(text['title']+\":\")\n",
    "        print(\"...\")\n",
    "        print(result)\n",
    "        print(\"------------\")\n",
    "            "
   ]
  },
  {
   "cell_type": "code",
   "execution_count": 32,
   "metadata": {},
   "outputs": [
    {
     "name": "stdout",
     "output_type": "stream",
     "text": [
      "As One Listens To The Rain:\n",
      "...\n",
      "0\n",
      "------------\n",
      "An Old Man On The River Bank:\n",
      "...\n",
      "0\n",
      "------------\n",
      "Study Of Loneliness:\n",
      "...\n",
      "0\n",
      "------------\n",
      "I Am Not Alone:\n",
      "...\n",
      "4\n",
      "------------\n",
      "Lost In The Forest:\n",
      "...\n",
      "0\n",
      "------------\n"
     ]
    }
   ],
   "source": [
    "how_many_times('you')"
   ]
  },
  {
   "cell_type": "markdown",
   "metadata": {},
   "source": [
    "Question 10\n",
    "Print out **the text that has the highest occurrence of the word** you searched for. This is similar to the last function, but here you need the counter and a mostfreqtext variable better placed outside the loop that you run comparisons on. (See Question 3)\n"
   ]
  },
  {
   "cell_type": "code",
   "execution_count": 33,
   "metadata": {
    "collapsed": true
   },
   "outputs": [],
   "source": [
    "def text_with_most_occurance_of(word):\n",
    "    my_regex = r\"\\byou\\b\"\n",
    "    max_occurance = all_texts[0]\n",
    "    for text in all_texts:\n",
    "        result = [len(line) for line in text['lines'] if re.search(my_regex, line, re.IGNORECASE)]\n",
    "        if len(text['alltext']) > len(max_occurance['alltext']):\n",
    "            max_occurance = text  \n",
    "            print(text['title']+\":\")\n",
    "            print(\"...\")\n",
    "            print(max_occurance['alltext'])\n",
    "            [print(line) for line in result]\n",
    "            print(\"------------\")\n"
   ]
  },
  {
   "cell_type": "code",
   "execution_count": 34,
   "metadata": {},
   "outputs": [
    {
     "name": "stdout",
     "output_type": "stream",
     "text": [
      "An Old Man On The River Bank:\n",
      "...\n",
      "\n",
      "And yet we should consider how we go forward.\n",
      "To feel is not enough, nor to think, nor to move\n",
      "nor to put your body in danger in front of an old loophole\n",
      "when scalding oil and molten lead furrow the walls.\n",
      "\n",
      "And yet we should consider towards what we go forward,\n",
      "not as our pain would have it, and our hungry children\n",
      "and the chasm between us and the companions calling from the opposite shore;\n",
      "nor as the bluish light whispers it in an improvised hospital,\n",
      "the pharmaceutic glimmer on the pillow of the youth operated on at noon;\n",
      "but it should be in some other way, I would say like\n",
      "the long river that emerges from the great lakes enclosed deep in Africa,\n",
      "that was once a god and then became a road and a benefactor, a judge and a delta;\n",
      "that is never the same, as the ancient wise men taught,\n",
      "and yet always remains the same body, the same bed, and the same Sign,\n",
      "the same orientation.\n",
      "\n",
      "------------\n"
     ]
    }
   ],
   "source": [
    "text_with_most_occurance_of('you')"
   ]
  },
  {
   "cell_type": "markdown",
   "metadata": {},
   "source": [
    "Question 11\n",
    "Print out **lines containing words of the length asked**. We are sort of back to basics here, you just need to modify the regular expression of the first function (get_this_word(word)) so that it can take a number parameter for the late characters in a word."
   ]
  },
  {
   "cell_type": "code",
   "execution_count": 35,
   "metadata": {
    "collapsed": true
   },
   "outputs": [],
   "source": [
    "def lines_with_words_this_length(word):\n",
    "    my_regex = r\"\\b\\w[a-z]{10}\\b\"\n",
    "    for text in all_texts:\n",
    "        result = [line for line in text['lines'] if re.search(my_regex, line, re.IGNORECASE)]\n",
    "        if len(result) > 0:\n",
    "            print(text['title']+\":\")\n",
    "            print(\"...\")\n",
    "            [print(line) for line in result]\n",
    "            print(\"------------\")\n"
   ]
  },
  {
   "cell_type": "code",
   "execution_count": 36,
   "metadata": {},
   "outputs": [
    {
     "name": "stdout",
     "output_type": "stream",
     "text": [
      "As One Listens To The Rain:\n",
      "...\n",
      "figurations of mist\n",
      "figurations of time\n",
      "------------\n",
      "An Old Man On The River Bank:\n",
      "...\n",
      "the same orientation.\n",
      "------------\n"
     ]
    }
   ],
   "source": [
    "lines_with_words_this_length('10')"
   ]
  },
  {
   "cell_type": "markdown",
   "metadata": {
    "collapsed": true
   },
   "source": [
    "**Final question:** in this cell, describe two functions that you would like to write, not ones that you're able to write, but ones you think would be useful or interesting or fun."
   ]
  },
  {
   "cell_type": "code",
   "execution_count": 37,
   "metadata": {
    "collapsed": true
   },
   "outputs": [],
   "source": [
    "# A function that gives me the first and the last line of the the first and the last paragraph of every poem"
   ]
  },
  {
   "cell_type": "code",
   "execution_count": 38,
   "metadata": {
    "collapsed": true
   },
   "outputs": [],
   "source": [
    "# All the -ed in the end of words, to get a grasp of the tense used. "
   ]
  }
 ],
 "metadata": {
  "kernelspec": {
   "display_name": "Python 3",
   "language": "python",
   "name": "python3"
  },
  "language_info": {
   "codemirror_mode": {
    "name": "ipython",
    "version": 3
   },
   "file_extension": ".py",
   "mimetype": "text/x-python",
   "name": "python",
   "nbconvert_exporter": "python",
   "pygments_lexer": "ipython3",
   "version": "3.6.1"
  }
 },
 "nbformat": 4,
 "nbformat_minor": 2
}
